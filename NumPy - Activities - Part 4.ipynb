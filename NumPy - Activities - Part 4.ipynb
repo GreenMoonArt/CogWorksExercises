{
 "cells": [
  {
   "cell_type": "markdown",
   "id": "05bd5cc7",
   "metadata": {},
   "source": [
    "## Advanced Indexing\n",
    "\n",
    " * [Advanced Indexing](https://numpy.org/doc/stable/reference/arrays.indexing.html#advanced-indexing)\n",
    "\n",
    " * [Logical Functions](https://numpy.org/doc/stable/reference/routines.logic.html)\n",
    "\n",
    " * [numpy.where](https://numpy.org/doc/stable/reference/generated/numpy.where.html)\n",
    "\n",
    " * [Combining Basic and Advanced Indexing](https://numpy.org/doc/stable/reference/arrays.indexing.html#combining-advanced-and-basic-indexing)\n"
   ]
  },
  {
   "cell_type": "code",
   "execution_count": 2,
   "id": "699336d6",
   "metadata": {},
   "outputs": [],
   "source": [
    "import numpy as np"
   ]
  },
  {
   "cell_type": "markdown",
   "id": "5234ad60",
   "metadata": {},
   "source": [
    "1. Given the following array:\n",
    "\n",
    "`y = np.array([ 0, -1, -2, -3, -4, -5])`\n",
    "\n",
    "Use advanced indexing, using an integer-array, to produce the following arrays:\n",
    "\n",
    "a. \n",
    "`array([-1])`\n",
    "\n",
    "b. \n",
    "`array([-1, -2, -1, -2])`\n",
    "\n",
    "c. \n",
    "`array([[ 0, -5], \n",
    "       [-1, -4]])`\n",
    "\n",
    "d. \n",
    "`array([[-2], \n",
    "       [-3], \n",
    "       [-2]])`"
   ]
  },
  {
   "cell_type": "code",
   "execution_count": null,
   "id": "be102a76",
   "metadata": {},
   "outputs": [],
   "source": [
    "#a. array([-1])\n"
   ]
  },
  {
   "cell_type": "code",
   "execution_count": null,
   "id": "c893e879",
   "metadata": {},
   "outputs": [],
   "source": [
    "#b. array([-1, -2, -1, -2])\n"
   ]
  },
  {
   "cell_type": "code",
   "execution_count": null,
   "id": "37710605",
   "metadata": {},
   "outputs": [],
   "source": [
    "#c. array([[ 0, -5], \n",
    "#          [-1, -4]])\n"
   ]
  },
  {
   "cell_type": "code",
   "execution_count": null,
   "id": "4bf3eab3",
   "metadata": {},
   "outputs": [],
   "source": [
    "#d. array([[-2], \n",
    "#          [-3], \n",
    "#          [-2]])\n"
   ]
  },
  {
   "cell_type": "markdown",
   "id": "2b39b276",
   "metadata": {},
   "source": [
    "2. Given the following array:\n",
    "```\n",
    "z = np.array([[[ 0,  1,  2,  3],\n",
    "               [ 4,  5,  6,  7],\n",
    "               [ 8,  9, 10, 11]],\n",
    "\n",
    "              [[12, 13, 14, 15],\n",
    "               [16, 17, 18, 19],\n",
    "               [20, 21, 22, 23]]])\n",
    "```\n",
    "Use advanced indexing, using integer-arrays, to produce the following arrays:\n",
    "\n",
    "a. \n",
    "`array([[ 0,  5, 10],\n",
    "       [12, 17, 22]])`\n",
    "\n",
    "b. \n",
    "`array([[ 0, 23],\n",
    "       [23,  0]])`"
   ]
  },
  {
   "cell_type": "code",
   "execution_count": null,
   "id": "a6b77947",
   "metadata": {},
   "outputs": [],
   "source": [
    "#a. \n"
   ]
  },
  {
   "cell_type": "code",
   "execution_count": null,
   "id": "85ef001b",
   "metadata": {},
   "outputs": [],
   "source": [
    "#b. \n"
   ]
  },
  {
   "cell_type": "markdown",
   "id": "95d9dd77",
   "metadata": {},
   "source": [
    "3. Given the following array:\n",
    "```\n",
    "h = np.array([[ 0.01,  0.03,  0.1 ,  0.25],\n",
    "                 [ 0.38,  0.22,  0.15,  0.34],\n",
    "                 [-0.29,  0.13, -0.26,  0.33]])\n",
    "```\n",
    "Use __boolean array-indexing__ and NumPy's [logical functions](https://numpy.org/doc/stable/reference/routines.logic.html) to select the contents of `h` that satisfy the following conditions. Because you are dealing with floating-point numbers, you should not require that two values are exactly equal; rather, make use of the function [numpy.isclose](https://numpy.org/doc/stable/reference/generated/numpy.isclose.html#numpy.isclose).\n",
    "\n",
    "a. All negative entries in `h`\n",
    "\n",
    "b. All entries in h \"equal' to `0.01` or `0.33`\n",
    "\n",
    "c. All entries of h that fall within the domain `(0.1, 0.3)`"
   ]
  },
  {
   "cell_type": "code",
   "execution_count": null,
   "id": "cb9a2e96",
   "metadata": {},
   "outputs": [],
   "source": [
    "#a."
   ]
  },
  {
   "cell_type": "code",
   "execution_count": null,
   "id": "ddf933e9",
   "metadata": {},
   "outputs": [],
   "source": [
    "#b."
   ]
  },
  {
   "cell_type": "code",
   "execution_count": null,
   "id": "be3cb434",
   "metadata": {},
   "outputs": [],
   "source": [
    "#c."
   ]
  },
  {
   "cell_type": "markdown",
   "id": "f755413c",
   "metadata": {},
   "source": [
    "4. Given the array\n",
    "```\n",
    "b = np.array([[False, False,  True],\n",
    "              [False,  True, False],\n",
    "              [ True,  True, False]], dtype=bool)\n",
    "```           \n",
    "Predict what the output of np.where(b) is."
   ]
  },
  {
   "cell_type": "code",
   "execution_count": null,
   "id": "83ebb012",
   "metadata": {},
   "outputs": [],
   "source": []
  },
  {
   "cell_type": "markdown",
   "id": "87f54400",
   "metadata": {},
   "source": [
    "5. Given the array\n",
    "```\n",
    "x = np.array([[ 0.58,  0.05,  0.84,  0.21],\n",
    "              [ 0.88,  0.98,  0.45,  0.13],\n",
    "              [ 0.1 ,  0.52,  0.58,  0.38],\n",
    "              [ 0.84,  0.76,  0.25,  0.07]])\n",
    "```\n",
    "Replace the diagonal elements of `x` with `(0, 1, 2, 3)`, and add `1` to all values in `x` that are greater than `0.8`."
   ]
  },
  {
   "cell_type": "code",
   "execution_count": null,
   "id": "8f723855",
   "metadata": {},
   "outputs": [],
   "source": []
  },
  {
   "cell_type": "code",
   "execution_count": null,
   "id": "7697ae29",
   "metadata": {},
   "outputs": [],
   "source": []
  }
 ],
 "metadata": {
  "kernelspec": {
   "display_name": "Python 3 (ipykernel)",
   "language": "python",
   "name": "python3"
  },
  "language_info": {
   "codemirror_mode": {
    "name": "ipython",
    "version": 3
   },
   "file_extension": ".py",
   "mimetype": "text/x-python",
   "name": "python",
   "nbconvert_exporter": "python",
   "pygments_lexer": "ipython3",
   "version": "3.8.10"
  }
 },
 "nbformat": 4,
 "nbformat_minor": 5
}
