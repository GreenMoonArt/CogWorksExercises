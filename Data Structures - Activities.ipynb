{
 "cells": [
  {
   "cell_type": "markdown",
   "id": "b077090f",
   "metadata": {},
   "source": [
    "## Data Structures\n",
    "\n",
    "You may reference the following documentation if you need to look up something: \n",
    " * [Big-O Notation](https://www.pythonlikeyoumeanit.com/Module2_EssentialsOfPython/DataStructures.html#Describing-Algorithm-Complexity) \n",
    " \n",
    "* [Dictionaries](https://docs.python.org/3/library/stdtypes.html#mapping-types-dict)\n",
    "    * [Dictionaries tutorial](https://docs.python.org/3/tutorial/datastructures.html#dictionaries)\n",
    "* [Definition of 'hashable'](https://docs.python.org/3/glossary.html#term-hashable)\n",
    "* [Dictionary view objects](https://docs.python.org/3/library/stdtypes.html#dictionary-view-objects)\n",
    " \n",
    " \n",
    " \n",
    " * [Counter](https://docs.python.org/3/library/collections.html#counter-objects)\n",
    " "
   ]
  },
  {
   "cell_type": "markdown",
   "id": "445fcf6b",
   "metadata": {},
   "source": [
    "## Big-O Notation"
   ]
  },
  {
   "cell_type": "code",
   "execution_count": 7,
   "id": "cde84f9c",
   "metadata": {},
   "outputs": [],
   "source": [
    "# what is the Big-O notation for the following function: \n",
    "def print_first_item(items):\n",
    "    print(items[0])\n",
    "    \n",
    "#you can write the notation as a comment\n"
   ]
  },
  {
   "cell_type": "code",
   "execution_count": 8,
   "id": "048b5100",
   "metadata": {},
   "outputs": [],
   "source": [
    "# what is the Big-O notation for the following function: \n",
    "def print_all_items(items):\n",
    "    for item in items:\n",
    "        print(item)\n",
    "\n",
    "#you can write the notation as a comment\n"
   ]
  },
  {
   "cell_type": "code",
   "execution_count": 9,
   "id": "b7320074",
   "metadata": {},
   "outputs": [],
   "source": [
    "# what is the Big-O notation for the following function: \n",
    "def print_all_items(items):\n",
    "    for item in items:\n",
    "        print(item)\n",
    "\n",
    "#you can write the notation as a comment\n"
   ]
  },
  {
   "cell_type": "markdown",
   "id": "c33fd3f9",
   "metadata": {},
   "source": [
    "## Dictionaries"
   ]
  },
  {
   "cell_type": "markdown",
   "id": "10cb587a",
   "metadata": {},
   "source": [
    "1. Given the tuple of student names `(\"Ashley\", \"David\", \"Edward\", \"Zoe\")`, and their corresponding exam grades `(0.92, 0.72, 0.88, 0.77)`, create a dictionary that maps: name → grade. \n",
    "Then, update Zoe's grade to .79. \n",
    "Lastly, add a new student, Ryan, whose grade is 0.34."
   ]
  },
  {
   "cell_type": "code",
   "execution_count": 12,
   "id": "72fa6815",
   "metadata": {},
   "outputs": [],
   "source": [
    "names = (\"Ashley\", \"David\", \"Edward\", \"Zoe\")\n",
    "scores = (0.92, 0.72, 0.88, 0.77)\n",
    "\n",
    "#Here is a basic, but verbose solution. \n",
    "#It is too long and its logic is complicated by the use of index.\n",
    "grades = {}\n",
    "for index in range(len(names)):\n",
    "    name = names[index]\n",
    "    value = scores[index]\n",
    "    grades[name] = value\n",
    "\n",
    "#You should make use of the function zip to pair the names and scores together in an iterable, \n",
    "# and create the dictionary using a comprehension expression.\n",
    "\n"
   ]
  },
  {
   "cell_type": "markdown",
   "id": "19351874",
   "metadata": {},
   "source": [
    "2. Write a function that inverts a dictionary. \n",
    "\n",
    "For example, if you were given `x = {'k1': 'v1', 'k2': 'v2', 'k3': 'v3'}`, you would produce the dictionary `inverted_x = {'v1': 'k1', 'v2': 'k2', 'v3': 'k3'}`.\n",
    "\n"
   ]
  },
  {
   "cell_type": "code",
   "execution_count": null,
   "id": "451d7f5e",
   "metadata": {},
   "outputs": [],
   "source": []
  },
  {
   "cell_type": "markdown",
   "id": "62a599e5",
   "metadata": {},
   "source": [
    "3(a). Assume we are working with a dictionary whose values are all unique numbers. Write a function that returns the key that maps to the largest value in the dictionary.\n",
    "\n"
   ]
  },
  {
   "cell_type": "code",
   "execution_count": null,
   "id": "ed03043e",
   "metadata": {},
   "outputs": [],
   "source": []
  },
  {
   "cell_type": "markdown",
   "id": "7165cdba",
   "metadata": {},
   "source": [
    "3(b). Next, generalize your solution for a dictionary whose values are not necessarily unique. Return a tuple of all of the keys that map to that max value.\n",
    "\n"
   ]
  },
  {
   "cell_type": "code",
   "execution_count": null,
   "id": "93ce0839",
   "metadata": {},
   "outputs": [],
   "source": []
  },
  {
   "cell_type": "markdown",
   "id": "24dbce57",
   "metadata": {},
   "source": [
    "## Sets & the Collections Module"
   ]
  },
  {
   "cell_type": "markdown",
   "id": "64560c48",
   "metadata": {},
   "source": [
    "4. Use a set to find all of the unique letters in the string `\"The cat in the hat\"`. Ignore all non-letter characters and lowercase all letters."
   ]
  },
  {
   "cell_type": "code",
   "execution_count": null,
   "id": "8c3020a1",
   "metadata": {},
   "outputs": [],
   "source": []
  },
  {
   "cell_type": "markdown",
   "id": "cb7101ca",
   "metadata": {},
   "source": [
    "5. Given the enrollment lists for class-A and class-B, find the students enrolled in both classes. Produce the result as a sorted list of names. \n",
    "\n",
    "`classA = [\"Bohr\", \"Curie\", \"David\", \"Euler\", \"Fermi\", \"Feynman\", \"Gauss\", \"Heisenberg\", \"Noether\"]`\n",
    "\n",
    "`classB = [\"Bohm\", \"Bohr\", \"Einstein\", \"Fermi\", \"Gauss\", \"Hopper\", \"Montalcini\"]`"
   ]
  },
  {
   "cell_type": "code",
   "execution_count": null,
   "id": "71483a71",
   "metadata": {},
   "outputs": [],
   "source": []
  },
  {
   "cell_type": "markdown",
   "id": "1c9ceaf6",
   "metadata": {},
   "source": [
    "6. Create a __named tuple__ called 'cnc_coord' to hold the x, y, and z position of the \n",
    "Create an instance of the named tuple and access the z coordinate \"by name.\"\n",
    "\n",
    "\n",
    "\n"
   ]
  },
  {
   "cell_type": "code",
   "execution_count": 14,
   "id": "507b3780",
   "metadata": {},
   "outputs": [],
   "source": [
    "from collections import namedtuple\n",
    "\n"
   ]
  },
  {
   "cell_type": "markdown",
   "id": "6184bf37",
   "metadata": {},
   "source": [
    "7. Create a __default dictionary__ to store grocery prices. Add at least three items and their prices to the dictionary. "
   ]
  },
  {
   "cell_type": "code",
   "execution_count": 16,
   "id": "be08576d",
   "metadata": {},
   "outputs": [],
   "source": [
    "from collections import defaultdict\n"
   ]
  },
  {
   "cell_type": "markdown",
   "id": "8cac5318",
   "metadata": {},
   "source": [
    "8. Take the first stanza of Edgar Allen Poe's _The Raven_ and: \n",
    " * remove punctuation (manually or with code)\n",
    " * make it all lower case\n",
    " * split the string by its spaces, storing the resulting tokens in a list\n",
    " * apply a counter, line by line (use update)\n",
    " * display the entire dictionary\n",
    " * display the top 3 most common words, along with their counts\n",
    "\n",
    "```\n",
    "Once upon a midnight dreary, while I pondered, weak and weary,\n",
    "Over many a quaint and curious volume of forgotten lore—\n",
    "While I nodded, nearly napping, suddenly there came a tapping,\n",
    "As of some one gently rapping, rapping at my chamber door.\n",
    "“'Tis some visitor,” I muttered, “tapping at my chamber door—\n",
    "            Only this and nothing more.”\n",
    "```\n",
    "\n"
   ]
  },
  {
   "cell_type": "code",
   "execution_count": 18,
   "id": "dfd50c10",
   "metadata": {},
   "outputs": [],
   "source": [
    "from collections import Counter\n",
    "\n"
   ]
  },
  {
   "cell_type": "code",
   "execution_count": null,
   "id": "820b5498",
   "metadata": {},
   "outputs": [],
   "source": []
  }
 ],
 "metadata": {
  "kernelspec": {
   "display_name": "Python 3 (ipykernel)",
   "language": "python",
   "name": "python3"
  },
  "language_info": {
   "codemirror_mode": {
    "name": "ipython",
    "version": 3
   },
   "file_extension": ".py",
   "mimetype": "text/x-python",
   "name": "python",
   "nbconvert_exporter": "python",
   "pygments_lexer": "ipython3",
   "version": "3.8.10"
  }
 },
 "nbformat": 4,
 "nbformat_minor": 5
}
