{
 "cells": [
  {
   "cell_type": "markdown",
   "id": "1ada0976",
   "metadata": {},
   "source": [
    "This quiz is \"open Jupyter Notebook,\" meaning you can look in other Jupyter Notebooks that you have created. You can also reference notes you have taken by hand, if applicable. Additionally, you can reference the official Python documentation: https://docs.python.org/3/library/ or NumPy documentaion https://numpy.org/doc/stable/index.html. You _cannot_ search for answers on forums, blogs, etc. \n",
    "\n",
    "You should _not_ use for loops for any solution in this quiz. \n",
    "\n",
    "10 problems, 10 points each, total of 100 points. "
   ]
  },
  {
   "cell_type": "code",
   "execution_count": 1,
   "id": "cf5b3c4f",
   "metadata": {},
   "outputs": [],
   "source": [
    "import numpy as np"
   ]
  },
  {
   "cell_type": "markdown",
   "id": "6213852a",
   "metadata": {},
   "source": [
    "1. (10 points) Use NumPy functions to create the following array, using one line of code: \n",
    "```\n",
    "arr1 = array([[[ 0,  1,  2,  3],\n",
    "               [ 4,  5,  6,  7],\n",
    "               [ 8,  9, 10, 11],\n",
    "               [12, 13, 14, 15]],\n",
    "\n",
    "              [[16, 17, 18, 19],\n",
    "               [20, 21, 22, 23],\n",
    "               [24, 25, 26, 27],\n",
    "               [28, 29, 30, 31]],\n",
    "\n",
    "              [[32, 33, 34, 35],\n",
    "               [36, 37, 38, 39],\n",
    "               [40, 41, 42, 43],\n",
    "               [44, 45, 46, 47]],\n",
    "\n",
    "              [[48, 49, 50, 51],\n",
    "               [52, 53, 54, 55],\n",
    "               [56, 57, 58, 59],\n",
    "               [60, 61, 62, 63]]])\n",
    "```\n",
    "\n",
    "\n",
    "\n"
   ]
  },
  {
   "cell_type": "code",
   "execution_count": null,
   "id": "750d9e31",
   "metadata": {},
   "outputs": [],
   "source": []
  },
  {
   "cell_type": "markdown",
   "id": "f6aedb9e",
   "metadata": {},
   "source": [
    "2. (10 points) Using array `arr1` from problem 1, index/slice into it (using one line of code) to produce the following: "
   ]
  },
  {
   "cell_type": "markdown",
   "id": "aa08079e",
   "metadata": {},
   "source": [
    "2a. (3 points)\n",
    "\n",
    "```array([[33, 34],\n",
    "          [37, 38],\n",
    "          [41, 42],\n",
    "          [45, 46]]) ```"
   ]
  },
  {
   "cell_type": "code",
   "execution_count": null,
   "id": "79c8770f",
   "metadata": {},
   "outputs": [],
   "source": []
  },
  {
   "cell_type": "markdown",
   "id": "ecc10879",
   "metadata": {},
   "source": [
    "2b. (3 points)\n",
    "<code>\n",
    "array([[[26, 27],\n",
    "        [30, 31]], \n",
    "</code>\n",
    "<code>\n",
    "       [[42, 43],\n",
    "        [46, 47]]])\n",
    "</code>"
   ]
  },
  {
   "cell_type": "code",
   "execution_count": null,
   "id": "9bce5da2",
   "metadata": {},
   "outputs": [],
   "source": []
  },
  {
   "cell_type": "markdown",
   "id": "bb7aa10e",
   "metadata": {},
   "source": [
    "2c. (4 points)\n",
    "<code>\n",
    "array([[[ 7,  6,  5,  4],\n",
    "        [ 3,  2,  1,  0]],\n",
    "</code>\n",
    "<code>\n",
    "       [[23, 22, 21, 20],\n",
    "        [19, 18, 17, 16]],\n",
    "</code>\n",
    "<code>\n",
    "       [[39, 38, 37, 36],\n",
    "        [35, 34, 33, 32]]])\n",
    "</code>"
   ]
  },
  {
   "cell_type": "code",
   "execution_count": null,
   "id": "7825ab71",
   "metadata": {},
   "outputs": [],
   "source": []
  },
  {
   "cell_type": "markdown",
   "id": "1b0e0ac8",
   "metadata": {},
   "source": [
    "3. (10 points) Create a shape-(24,) array named `arr2`. "
   ]
  },
  {
   "cell_type": "code",
   "execution_count": null,
   "id": "3eaf027a",
   "metadata": {},
   "outputs": [],
   "source": []
  },
  {
   "cell_type": "markdown",
   "id": "6154f2fb",
   "metadata": {},
   "source": [
    "How many ways can it be reshaped into a 3-dimensional array (without using `1` as one of the dimensions)?  List each way. "
   ]
  },
  {
   "cell_type": "code",
   "execution_count": null,
   "id": "cd77e503",
   "metadata": {},
   "outputs": [],
   "source": []
  },
  {
   "cell_type": "markdown",
   "id": "1525fce3",
   "metadata": {},
   "source": [
    "4.  (10 points) We went over this way to creat an array in class: `np.array([[[0]*4]*3]*2)`"
   ]
  },
  {
   "cell_type": "markdown",
   "id": "eb8a5508",
   "metadata": {},
   "source": [
    "4a. (3 points) Use this approach to create a shape-(3,2,5) array filled with 1s. "
   ]
  },
  {
   "cell_type": "code",
   "execution_count": null,
   "id": "cb7d45a4",
   "metadata": {},
   "outputs": [],
   "source": []
  },
  {
   "cell_type": "markdown",
   "id": "931d43ac",
   "metadata": {},
   "source": [
    "4b. (2 points) Use the ones function to create the same shaped array."
   ]
  },
  {
   "cell_type": "code",
   "execution_count": null,
   "id": "08f7a44f",
   "metadata": {},
   "outputs": [],
   "source": []
  },
  {
   "cell_type": "markdown",
   "id": "2051c62b",
   "metadata": {},
   "source": [
    "4c. (3 points) What is the difference between the two arrays? (Explain)"
   ]
  },
  {
   "cell_type": "code",
   "execution_count": null,
   "id": "e44e357a",
   "metadata": {},
   "outputs": [],
   "source": []
  },
  {
   "cell_type": "markdown",
   "id": "be169895",
   "metadata": {},
   "source": [
    "4d. (2 points) Show one way you could make them each have the same data type. "
   ]
  },
  {
   "cell_type": "code",
   "execution_count": null,
   "id": "84d15c30",
   "metadata": {},
   "outputs": [],
   "source": []
  },
  {
   "cell_type": "markdown",
   "id": "01ecbef6",
   "metadata": {},
   "source": [
    "5a. (1 point) Create an array named `arr3` with shape-(5,4), filled with random numbers based on a uniform distribution (values range from 0 to 1). "
   ]
  },
  {
   "cell_type": "code",
   "execution_count": null,
   "id": "a2ac0042",
   "metadata": {},
   "outputs": [],
   "source": []
  },
  {
   "cell_type": "markdown",
   "id": "8cc67a00",
   "metadata": {},
   "source": [
    "5b. (1 point) Square each element in the top row of the array. "
   ]
  },
  {
   "cell_type": "code",
   "execution_count": null,
   "id": "ee93c8fa",
   "metadata": {},
   "outputs": [],
   "source": []
  },
  {
   "cell_type": "markdown",
   "id": "11fbffe3",
   "metadata": {},
   "source": [
    "5c. (2 points) Take the square root of each element in the final column in the array. "
   ]
  },
  {
   "cell_type": "code",
   "execution_count": null,
   "id": "d2682d5f",
   "metadata": {},
   "outputs": [],
   "source": []
  },
  {
   "cell_type": "markdown",
   "id": "c7ac18a8",
   "metadata": {},
   "source": [
    "5d. (2 points) Add 1 to each element in the the middle row"
   ]
  },
  {
   "cell_type": "code",
   "execution_count": null,
   "id": "6b976b93",
   "metadata": {},
   "outputs": [],
   "source": []
  },
  {
   "cell_type": "markdown",
   "id": "ea123072",
   "metadata": {},
   "source": [
    "5e. (2 points) Sum all of the entries of the array to produce one value. Use a NumPy function, not for loops! "
   ]
  },
  {
   "cell_type": "code",
   "execution_count": null,
   "id": "5fb8bd22",
   "metadata": {},
   "outputs": [],
   "source": []
  },
  {
   "cell_type": "markdown",
   "id": "cf259727",
   "metadata": {},
   "source": [
    "5f. (2 points) Sum over all of the rows to produce one value per column. Use a NumPy function, not for loops! "
   ]
  },
  {
   "cell_type": "code",
   "execution_count": null,
   "id": "576baf70",
   "metadata": {},
   "outputs": [],
   "source": []
  },
  {
   "cell_type": "markdown",
   "id": "384119a5",
   "metadata": {},
   "source": [
    "6. (10 points) Use the following two arrays: \n"
   ]
  },
  {
   "cell_type": "code",
   "execution_count": 35,
   "id": "ab83a6fa",
   "metadata": {},
   "outputs": [],
   "source": [
    "x = np.array([[ 11,   6,   3],\n",
    "                 [ -9,   2,  17],\n",
    "                 [  8,   0,   1]])\n",
    "\n",
    "y = np.array([[  1,   0,  7],\n",
    "                 [ -4,  -1,  4],\n",
    "                 [-10,  15, 19]])"
   ]
  },
  {
   "cell_type": "markdown",
   "id": "cc0ff85e",
   "metadata": {},
   "source": [
    "6a. (5 points) Add column-1 of `x` and row-0 of `y`"
   ]
  },
  {
   "cell_type": "code",
   "execution_count": null,
   "id": "3a9ec361",
   "metadata": {},
   "outputs": [],
   "source": []
  },
  {
   "cell_type": "markdown",
   "id": "b6b7df5e",
   "metadata": {},
   "source": [
    "6b. (5 points) Take the mean average of row 2 of `x` and multiply it by the maximum value in column 0 of `y`"
   ]
  },
  {
   "cell_type": "code",
   "execution_count": null,
   "id": "c4eb32e9",
   "metadata": {},
   "outputs": [],
   "source": []
  },
  {
   "cell_type": "markdown",
   "id": "0b8aa1b6",
   "metadata": {},
   "source": [
    "7. (10 points) Given the array `arr4` depicting scores that 8 manufactured parts received on 5 criteria (for example: straightness, flatness, concentricity, perpendicularity, parallelism): \n",
    "\n"
   ]
  },
  {
   "cell_type": "code",
   "execution_count": 36,
   "id": "b33b54e1",
   "metadata": {},
   "outputs": [],
   "source": [
    "arr4 = np.array([[0.95, 0.84, 0.71, 0.60, 0.63],\n",
    "       [0.93, 0.77, 0.87, 0.75, 0.83],\n",
    "       [0.74, 0.79, 0.99, 0.70, 0.85],\n",
    "       [0.67, 0.66, 0.63, 0.98, 0.64],\n",
    "       [0.92, 0.92, 0.79, 0.89, 0.82],\n",
    "       [0.63, 0.81, 0.95, 0.78, 0.88],\n",
    "       [0.90, 0.74, 0.85, 0.88, 0.9 ],\n",
    "       [0.94, 0.78, 0.86, 0.97, 0.91]]) "
   ]
  },
  {
   "cell_type": "markdown",
   "id": "7bc7a354",
   "metadata": {},
   "source": [
    "7a. (3 points) Compute the mean score for each part (rounded to 2 decimal places). No for loops!\n"
   ]
  },
  {
   "cell_type": "code",
   "execution_count": null,
   "id": "ec15a861",
   "metadata": {},
   "outputs": [],
   "source": []
  },
  {
   "cell_type": "markdown",
   "id": "2e98a1cb",
   "metadata": {},
   "source": [
    "7b. (4 points) A part must achieve a mean score of 0.80 to pass. However, if any individual criteria score is less than 0.70, then that criteria fails and the score for that criteria must be set to zero; and then the mean is calculated again. Set all individual criteria scores that are less than 0.70 to 0.00 (without using for loops). "
   ]
  },
  {
   "cell_type": "code",
   "execution_count": null,
   "id": "f018539c",
   "metadata": {},
   "outputs": [],
   "source": []
  },
  {
   "cell_type": "markdown",
   "id": "89cf10ad",
   "metadata": {},
   "source": [
    "7c. (3 points) Compute the means for each part again. How many parts now pass (having a score >= 0.80)?"
   ]
  },
  {
   "cell_type": "code",
   "execution_count": null,
   "id": "3a315f77",
   "metadata": {},
   "outputs": [],
   "source": []
  },
  {
   "cell_type": "markdown",
   "id": "e2f4ce0e",
   "metadata": {},
   "source": [
    "8. (10 points) Given the two arrays `a` and `b` below, use the `reshape` function to allow them to be multiplied together and to produce a shape-(4, 5) array. "
   ]
  },
  {
   "cell_type": "code",
   "execution_count": 44,
   "id": "5365e1a0",
   "metadata": {},
   "outputs": [],
   "source": [
    "a = np.array([1, 2, 3, 4])\n",
    "b = np.array([4, 5, 6, 7, 8])\n",
    "\n"
   ]
  },
  {
   "cell_type": "code",
   "execution_count": null,
   "id": "b48bbbbb",
   "metadata": {},
   "outputs": [],
   "source": []
  },
  {
   "cell_type": "markdown",
   "id": "7f8e22c1",
   "metadata": {},
   "source": [
    "9. (10 points) In class, we looked at the following example of combining basic and advanced indexing using a Boolean Index-Array: \n",
    "\n",
    "<code>\n",
    "x = np.array([[[ 0,  1,  2,  3],\n",
    "               [ 4,  5,  6,  7],\n",
    "               [ 8,  9, 10, 11]],\n",
    "\n",
    "              [[12, 13, 14, 15],\n",
    "               [16, 17, 18, 19],\n",
    "               [20, 21, 22, 23]]])\n",
    "\n",
    "ind0 = np.array([True, False])\n",
    "</code>\n",
    "\n",
    "Select sheet-0, all rows, last column: \n",
    "<code>\n",
    "x[ind0, :, -1]\n",
    "</code>\n",
    "\n",
    "Which produced: \n",
    "`array([[ 3,  7, 11]])`\n",
    "\n",
    "Using the following array `z`, come up with a Boolean Index Array and apply it to `z` to return only the diagonal values. \n"
   ]
  },
  {
   "cell_type": "code",
   "execution_count": 46,
   "id": "e7b146ad",
   "metadata": {},
   "outputs": [],
   "source": [
    "z = np.array([[[ 0,  1,  2,  3],\n",
    "               [ 4,  5,  6,  7],\n",
    "               [ 8,  9, 10, 11],\n",
    "               [ 12, 13, 14, 15]\n",
    "               ],\n",
    "\n",
    "              [\n",
    "               [16, 17, 18, 19],\n",
    "               [20, 21, 22, 23], \n",
    "               [24, 25, 26, 27],\n",
    "               [28, 29, 30, 31]]])\n"
   ]
  },
  {
   "cell_type": "code",
   "execution_count": null,
   "id": "5e7c808c",
   "metadata": {},
   "outputs": [],
   "source": []
  },
  {
   "cell_type": "markdown",
   "id": "248d1d9f",
   "metadata": {},
   "source": [
    "10. (10 points)"
   ]
  },
  {
   "cell_type": "markdown",
   "id": "0a47c5e2",
   "metadata": {},
   "source": [
    "10a. (3 points) Given the array `z` from problem 9 above, create an index array called `rows` and another called `cols` and combine basic and advanced indexing by applying `rows` and `cols` to `z` to produce the corner elements of the array `z`.  "
   ]
  },
  {
   "cell_type": "code",
   "execution_count": null,
   "id": "a6d00ac8",
   "metadata": {},
   "outputs": [],
   "source": []
  },
  {
   "cell_type": "markdown",
   "id": "1ae7bf8c",
   "metadata": {},
   "source": [
    "10b. (2 points) Set the corner elements in `z` to the value of `99`. "
   ]
  },
  {
   "cell_type": "code",
   "execution_count": null,
   "id": "c8ee2322",
   "metadata": {},
   "outputs": [],
   "source": []
  },
  {
   "cell_type": "markdown",
   "id": "8e32012c",
   "metadata": {},
   "source": [
    "10c. (3 points) Use a one-line logic statement to create a boolean index array called `mask` where `True` represents the position of even-numbered elements. "
   ]
  },
  {
   "cell_type": "code",
   "execution_count": null,
   "id": "5b1ff20e",
   "metadata": {},
   "outputs": [],
   "source": []
  },
  {
   "cell_type": "markdown",
   "id": "35178201",
   "metadata": {},
   "source": [
    "10d. (2 points) Use the `mask` array created in 10c to set all `True` positions to `0`. "
   ]
  },
  {
   "cell_type": "code",
   "execution_count": null,
   "id": "eb264a9c",
   "metadata": {},
   "outputs": [],
   "source": []
  }
 ],
 "metadata": {
  "kernelspec": {
   "display_name": "Python 3 (ipykernel)",
   "language": "python",
   "name": "python3"
  },
  "language_info": {
   "codemirror_mode": {
    "name": "ipython",
    "version": 3
   },
   "file_extension": ".py",
   "mimetype": "text/x-python",
   "name": "python",
   "nbconvert_exporter": "python",
   "pygments_lexer": "ipython3",
   "version": "3.8.10"
  }
 },
 "nbformat": 4,
 "nbformat_minor": 5
}
