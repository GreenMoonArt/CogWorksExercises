{
 "cells": [
  {
   "cell_type": "markdown",
   "id": "e8742c1d",
   "metadata": {},
   "source": [
    "0. A digital image is simply an array of numbers, which instructs a grid of pixels on a monitor to shine light of specific colors, according to the numerical values in that array.\n",
    "\n",
    "An RGB-image can thus be stored as a 3D NumPy array of shape-(V,H,3). V is the number of pixels along the vertical direction, H is the number of pixels along the horizontal, and the size-3 dimension stores the red, blue, and green color values for a given pixel. Thus a (32, 32, 3) array would be a 32x32 RBG image.\n",
    "\n",
    "It is common to work with a collection of images. Suppose we want to store N images in a single array; thus we now consider a 4D shape-(N, V, H, 3) array.\n",
    "\n",
    "Let's collect some statistics on a collection of images. For the sake of convenience, let's simply generate a 4D-array of random numbers as a placeholder for real image data. We will generate 100, 32x32 RGB images:\n",
    "\n",
    "`images = np.random.rand(100, 32, 32, 3)`\n",
    "\n",
    "Now, compute the following (5 different problems): "
   ]
  },
  {
   "cell_type": "code",
   "execution_count": null,
   "id": "b69de962",
   "metadata": {},
   "outputs": [],
   "source": [
    "images = np.random.rand(100, 32, 32, 3)"
   ]
  },
  {
   "cell_type": "code",
   "execution_count": null,
   "id": "e6463803",
   "metadata": {},
   "outputs": [],
   "source": [
    "#a. The average 32x32 RGB image.\n"
   ]
  },
  {
   "cell_type": "code",
   "execution_count": null,
   "id": "00c0d1dc",
   "metadata": {},
   "outputs": [],
   "source": [
    "#b. The total sum of all the values in the array.\n"
   ]
  },
  {
   "cell_type": "code",
   "execution_count": null,
   "id": "40117cc6",
   "metadata": {},
   "outputs": [],
   "source": [
    "#c. The minimum blue value, respective to each image.\n"
   ]
  },
  {
   "cell_type": "code",
   "execution_count": null,
   "id": "bc5915d5",
   "metadata": {},
   "outputs": [],
   "source": [
    "#d. The standard deviation among all the RGB values in all the images, \n",
    "#   respective to each pixel position (thus you should produce a shape-(32, 32) array of values).\n",
    "\n"
   ]
  },
  {
   "cell_type": "code",
   "execution_count": null,
   "id": "07195317",
   "metadata": {},
   "outputs": [],
   "source": [
    "#e. The maximum red-value in the top-left quadrant, respective to each image.\n"
   ]
  },
  {
   "cell_type": "code",
   "execution_count": null,
   "id": "231dcc8a",
   "metadata": {},
   "outputs": [],
   "source": []
  },
  {
   "cell_type": "markdown",
   "id": "1dc1db07",
   "metadata": {},
   "source": [
    "1. Given the following pairs of array-shapes, determine what the resulting broadcasted shapes will be. Indicate if a pair is broadcast-incompatible.\n",
    "\n",
    " * 7 x 2 with 7\n",
    "\n",
    " * 4 with 3 x 4\n",
    "\n",
    " * 1 x 3 x 1 with 8 x 1 x 1\n",
    "\n",
    " * 9 x 2 x 5 with 2 x 5\n",
    "\n",
    " * 3 with 3 x 3 x 2"
   ]
  },
  {
   "cell_type": "code",
   "execution_count": null,
   "id": "294f2ea9",
   "metadata": {},
   "outputs": [],
   "source": []
  },
  {
   "cell_type": "markdown",
   "id": "f98ffc61",
   "metadata": {},
   "source": [
    "2. Generate a random array of 10,000 2D points using `np.random.rand`. Compute the “center of mass” of these points, which is simply the average x-coordinate and the average y-coordinate of these 10,000 points. Then, use broadcasting to compute the shape-(10000, 2) array that stores the position of the points relative to the center of mass. For example, if the center of mass is `(0.5,1)`, and the absolute position of a point is `(2,3)`, then the position of that point relative to the center of mass is simply `(2,3)−(0.5,1)=(1.5,2)`\n",
    "\n"
   ]
  },
  {
   "cell_type": "code",
   "execution_count": null,
   "id": "737d334a",
   "metadata": {},
   "outputs": [],
   "source": []
  },
  {
   "cell_type": "markdown",
   "id": "f94e327a",
   "metadata": {},
   "source": [
    "3. Given the shape-(2,3,4) array:\n",
    "```\n",
    "x = np.array([[[ 0,  1,  2,  3],\n",
    "               [ 4,  5,  6,  7],\n",
    "               [ 8,  9, 10, 11]],\n",
    "\n",
    "              [[12, 13, 14, 15],\n",
    "               [16, 17, 18, 19],\n",
    "               [20, 21, 22, 23]]])\n",
    "```\n",
    "Normalize `x` such that _each of its rows, within each sheet, will sum to a value of 1_. Make use of the sequential function `np.sum`, which should be called only once, and broadcast-division."
   ]
  },
  {
   "cell_type": "code",
   "execution_count": null,
   "id": "8ca5645e",
   "metadata": {},
   "outputs": [],
   "source": []
  },
  {
   "cell_type": "markdown",
   "id": "c32f1de8",
   "metadata": {},
   "source": [
    "4. A digital image is simply an array of numbers, which instructs a grid of pixels on a monitor to shine light of specific colors, according to the numerical values in that array.\n",
    "\n",
    "An RGB-image can thus be stored as a 3D NumPy array of shape-(V,H,3). V is the number of pixels along the vertical direction, H is the number of pixels along the horizontal, and the size-3 dimension stores the red, blue, and green color values for a given pixel. Thus a (32,32,3) array would be a 32x32 RGB image.\n",
    "\n",
    "You often work with a collection of images. Suppose we want to store N images in a single array; thus we now consider a 4D shape-(N, V, H, 3) array. For the sake of convenience, let’s simply generate a 4D-array of random numbers as a placeholder for real image data. We will generate 500, 48x48 RGB images:\n",
    "\n",
    "`images = np.random.rand(500, 48, 48, 3)`\n",
    "\n",
    "Using the sequential function `np.max` and broadcasting, normalize `images` such that the largest value within _each color-channel of each image is 1_."
   ]
  },
  {
   "cell_type": "code",
   "execution_count": null,
   "id": "6f96dfc0",
   "metadata": {},
   "outputs": [],
   "source": []
  },
  {
   "cell_type": "markdown",
   "id": "2b81487f",
   "metadata": {},
   "source": [
    "5.  Use the function numpy.allclose to verify that the three methods for computing the pairwise distances produce the same numerical results. \n",
    "\n",
    "The three functions we covered in class were: \n",
    "\n",
    " * `pairwise_dists_looped(x, y)`\n",
    "\n",
    " * `pairwise_dists_crude(x, y)`\n",
    "\n",
    " * `pairwise_dists(x, y)`\n",
    "\n",
    "If you didn't get them completed, you can find each of them here. \n",
    "[https://www.pythonlikeyoumeanit.com/Module3_IntroducingNumpy/Broadcasting.html](https://www.pythonlikeyoumeanit.com/Module3_IntroducingNumpy/Broadcasting.html)"
   ]
  },
  {
   "cell_type": "code",
   "execution_count": null,
   "id": "1d56d1be",
   "metadata": {},
   "outputs": [],
   "source": [
    "\n",
    "\n",
    "\n"
   ]
  },
  {
   "cell_type": "code",
   "execution_count": null,
   "id": "a915ebcf",
   "metadata": {},
   "outputs": [],
   "source": []
  }
 ],
 "metadata": {
  "kernelspec": {
   "display_name": "Python 3 (ipykernel)",
   "language": "python",
   "name": "python3"
  },
  "language_info": {
   "codemirror_mode": {
    "name": "ipython",
    "version": 3
   },
   "file_extension": ".py",
   "mimetype": "text/x-python",
   "name": "python",
   "nbconvert_exporter": "python",
   "pygments_lexer": "ipython3",
   "version": "3.8.10"
  }
 },
 "nbformat": 4,
 "nbformat_minor": 5
}
