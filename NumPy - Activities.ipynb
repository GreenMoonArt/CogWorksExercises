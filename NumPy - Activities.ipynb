{
 "cells": [
  {
   "cell_type": "markdown",
   "id": "f53fdd88",
   "metadata": {},
   "source": [
    "## NumPy\n",
    "\n",
    "You may reference the following documentation if you need to look up something: \n",
    "\n",
    " * [NumPy Basics](https://numpy.org/doc/stable/user/basics.html#numpy-basics)\n",
    " * [NumPy reference](https://numpy.org/doc/stable/reference/index.html)\n",
    " * [The N-dimensional array](https://numpy.org/doc/stable/reference/arrays.ndarray.html)\n",
    " * [Array indexing](https://numpy.org/doc/stable/user/basics.indexing.html#indexing)\n",
    " * [Indexing routines](https://numpy.org/doc/stable/reference/routines.indexing.html#indexing-routines)\n",
    " * [Array manipulation routines](https://numpy.org/doc/stable/reference/routines.array-manipulation.html)\n",
    " * [Array attributes](https://numpy.org/doc/stable/reference/arrays.ndarray.html#array-attributes)\n",
    " * [Routines for iterating over arrays](https://numpy.org/doc/stable/reference/routines.indexing.html#iterating-over-arrays)\n",
    " * [Detailed description of array iteration](https://numpy.org/doc/stable/reference/arrays.nditer.html#iterating-over-arrays)"
   ]
  },
  {
   "cell_type": "code",
   "execution_count": null,
   "id": "a1e4f852",
   "metadata": {},
   "outputs": [],
   "source": [
    "import numpy as np\n"
   ]
  },
  {
   "cell_type": "markdown",
   "id": "4298713d",
   "metadata": {},
   "source": [
    "1. Convert a 1-D array with 12 elements into a 2-D array"
   ]
  },
  {
   "cell_type": "code",
   "execution_count": null,
   "id": "a007b038",
   "metadata": {},
   "outputs": [],
   "source": []
  },
  {
   "cell_type": "markdown",
   "id": "9e6d46b0",
   "metadata": {},
   "source": [
    "2. Convert 1-D array with 8 elements to 3-D array with 2x2 elements."
   ]
  },
  {
   "cell_type": "code",
   "execution_count": null,
   "id": "57a8f634",
   "metadata": {},
   "outputs": [],
   "source": []
  },
  {
   "cell_type": "markdown",
   "id": "8fc2b9c1",
   "metadata": {},
   "source": [
    "3. Given the 3D, shape-(3, 3, 3) array (see below): "
   ]
  },
  {
   "cell_type": "code",
   "execution_count": null,
   "id": "1c8e47d7",
   "metadata": {},
   "outputs": [],
   "source": [
    "#Problem 3\n",
    "\n",
    "\"\"\"\n",
    "Given the 3D, shape-(3, 3, 3) array:\n",
    "\n",
    "arr = np.array([[[ 0,  1,  2],\n",
    "                 [ 3,  4,  5],\n",
    "                 [ 6,  7,  8]],\n",
    "\n",
    "                [[ 9, 10, 11],\n",
    "                 [12, 13, 14],\n",
    "                 [15, 16, 17]],\n",
    "\n",
    "                [[18, 19, 20],\n",
    "                 [21, 22, 23],\n",
    "                 [24, 25, 26]]])\n",
    "Index into the array to produce the following results\n",
    "\n",
    "#1\n",
    "array([[ 2,  5,  8],\n",
    "       [11, 14, 17],\n",
    "       [20, 23, 26]])\n",
    "\n",
    "#2\n",
    "array([[ 3,  4,  5],\n",
    "       [12, 13, 14]])\n",
    "\n",
    "#3\n",
    "array([2, 5])\n",
    "\n",
    "#4\n",
    "array([[11, 10,  9],\n",
    "       [14, 13, 12],\n",
    "       [17, 16, 15]])\n",
    "\"\"\""
   ]
  },
  {
   "cell_type": "code",
   "execution_count": null,
   "id": "47663a2c",
   "metadata": {},
   "outputs": [],
   "source": []
  },
  {
   "cell_type": "markdown",
   "id": "c71dac0c",
   "metadata": {},
   "source": [
    "4. Given the 2D array:\n",
    "\n",
    "`x = np.array([[ 0,  1,  2,  3],\n",
    "              [ 4,  5,  6,  7],\n",
    "              [ 8,  9, 10, 11],\n",
    "              [12, 13, 14, 15]])`\n",
    "\n",
    "Take the natural-logarithm of the 1st and 3rd element in the 3rd-row of x, producing a shape-(2,) result."
   ]
  },
  {
   "cell_type": "code",
   "execution_count": null,
   "id": "4954b714",
   "metadata": {},
   "outputs": [],
   "source": []
  },
  {
   "cell_type": "markdown",
   "id": "41b194a4",
   "metadata": {},
   "source": [
    "5. Given the 2D array:\n",
    "\n",
    "`x = np.array([[ 0,  1,  2,  3],\n",
    "              [ 4,  5,  6,  7],\n",
    "              [ 8,  9, 10, 11],\n",
    "              [12, 13, 14, 15]])`\n",
    "              \n",
    "Add the four quadrants of x, producing a shape-(2, 2) output."
   ]
  },
  {
   "cell_type": "code",
   "execution_count": null,
   "id": "aa4e7013",
   "metadata": {},
   "outputs": [],
   "source": []
  }
 ],
 "metadata": {
  "kernelspec": {
   "display_name": "Python 3 (ipykernel)",
   "language": "python",
   "name": "python3"
  },
  "language_info": {
   "codemirror_mode": {
    "name": "ipython",
    "version": 3
   },
   "file_extension": ".py",
   "mimetype": "text/x-python",
   "name": "python",
   "nbconvert_exporter": "python",
   "pygments_lexer": "ipython3",
   "version": "3.8.10"
  }
 },
 "nbformat": 4,
 "nbformat_minor": 5
}
