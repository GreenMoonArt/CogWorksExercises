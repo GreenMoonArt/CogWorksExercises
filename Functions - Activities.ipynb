{
 "cells": [
  {
   "cell_type": "markdown",
   "id": "5a0aa2d0",
   "metadata": {},
   "source": [
    "## Functions"
   ]
  },
  {
   "cell_type": "markdown",
   "id": "7e634502",
   "metadata": {},
   "source": [
    "1. Write a function named `count_even`. It should accept one input argument, named `numbers`, which will be an iterable containing integers. Have the function return the number of even-valued integers contained in the list. Include a reasonable docstring."
   ]
  },
  {
   "cell_type": "code",
   "execution_count": null,
   "id": "f01ba076",
   "metadata": {},
   "outputs": [],
   "source": []
  },
  {
   "cell_type": "markdown",
   "id": "54ef2d2d",
   "metadata": {},
   "source": [
    "2. Write a function, `max_or_min`, which accepts two positional arguments, `x` and `y` (which will hold numerical values), and a `mode` variable that has the default value `\"max\"`. \n",
    "\n",
    "The function should return `min(x, y)` or `max(x, y)` according to the `mode`. Have the function return `None` if `mode` is neither `\"max\"` nor `\"min\"`.\n",
    "\n",
    "Include a descriptive doc-string.\n",
    "\n"
   ]
  },
  {
   "cell_type": "code",
   "execution_count": null,
   "id": "93fbab0e",
   "metadata": {},
   "outputs": [],
   "source": []
  },
  {
   "cell_type": "markdown",
   "id": "c6262ebe",
   "metadata": {},
   "source": [
    "3. Write a function named `mean`, which accepts and arbitrary number of numerical arguments, and computes the mean of all of the values passed to the function. Thus `mean(1, 2, 3)` should return (1+2+3) / 3 = 2.0\n",
    "\n",
    "This function should return `0`. if no arguments are passed to it. Be sure to test your function, and include a docstring."
   ]
  },
  {
   "cell_type": "code",
   "execution_count": null,
   "id": "906d44df",
   "metadata": {},
   "outputs": [],
   "source": []
  }
 ],
 "metadata": {
  "kernelspec": {
   "display_name": "Python 3 (ipykernel)",
   "language": "python",
   "name": "python3"
  },
  "language_info": {
   "codemirror_mode": {
    "name": "ipython",
    "version": 3
   },
   "file_extension": ".py",
   "mimetype": "text/x-python",
   "name": "python",
   "nbconvert_exporter": "python",
   "pygments_lexer": "ipython3",
   "version": "3.8.10"
  }
 },
 "nbformat": 4,
 "nbformat_minor": 5
}
