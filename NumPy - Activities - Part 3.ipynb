{
 "cells": [
  {
   "cell_type": "markdown",
   "id": "fc22784f",
   "metadata": {},
   "source": [
    "References\n",
    "\n",
    " * [Basic indexing](https://numpy.org/doc/stable/reference/arrays.indexing.html#indexing)\n",
    "\n",
    " * [Definition of ‘view’](https://numpy.org/doc/stable/glossary.html#term-view)\n",
    " \n",
    " * [Advanced Indexing](https://numpy.org/doc/stable/reference/arrays.indexing.html#advanced-indexing)\n",
    "\n"
   ]
  },
  {
   "cell_type": "code",
   "execution_count": 2,
   "id": "ff871b2f",
   "metadata": {},
   "outputs": [],
   "source": [
    "import numpy as np"
   ]
  },
  {
   "cell_type": "markdown",
   "id": "29635026",
   "metadata": {},
   "source": [
    "1. __Ellipsis__:  \n",
    "Given a N-dimensional array, x, index into x such that you access entry-0 of axis-0, the last entry of axis-N−1, slicing along all intermediate dimensions. N is at least 2."
   ]
  },
  {
   "cell_type": "code",
   "execution_count": 14,
   "id": "3779ce51",
   "metadata": {},
   "outputs": [
    {
     "name": "stdout",
     "output_type": "stream",
     "text": [
      "[[[0.43371126 0.17510431 0.60663104]\n",
      "  [0.46880833 0.23852707 0.34575032]]\n",
      "\n",
      " [[0.43361084 0.92375237 0.28685423]\n",
      "  [0.33044591 0.80702232 0.56910995]]]\n",
      "\n",
      "\n",
      "[0.60663104 0.34575032]\n",
      "\n",
      "\n",
      "[0.60663104 0.34575032]\n"
     ]
    }
   ],
   "source": [
    "x = np.random.rand(2, 2, 3)\n",
    "\n",
    "print(x)\n",
    "print(\"\\n\")\n",
    "\n",
    "\n",
    "\n",
    "print( x[0, ..., -1] )\n",
    "print(\"\\n\")\n",
    "print( x[0, Ellipsis, -1] )\n"
   ]
  },
  {
   "cell_type": "markdown",
   "id": "1f467473",
   "metadata": {},
   "source": [
    "2. Given a shape-(4, 3) array,\n",
    "```\n",
    "arr = np.array([[ 0,  1,  2,  3],\n",
    "                [ 4,  5,  6,  7],\n",
    "                [ 8,  9, 10, 11]])\n",
    "```\n",
    "                \n",
    "which of the following indexing schemes perform basic indexing? That is, in which instances does the index satisfy the rules of basic indexing?\n",
    "\n",
    "`arr[0]`\n",
    "\n",
    "`arr[:-1, 0]`\n",
    "\n",
    "`arr[(2, 3)]`\n",
    "\n",
    "`arr[[2, 0]]`\n",
    "\n",
    "`arr[np.array([2, 0])]`\n",
    "\n",
    "`arr[(0, 1), (2, 3)]`\n",
    "\n",
    "`arr[slice(None), ...]`\n",
    "\n",
    "`arr[(np.newaxis, 0, slice(1, 2), np.newaxis)]`"
   ]
  },
  {
   "cell_type": "code",
   "execution_count": null,
   "id": "2c7375b0",
   "metadata": {},
   "outputs": [],
   "source": []
  },
  {
   "cell_type": "code",
   "execution_count": null,
   "id": "057b48a3",
   "metadata": {},
   "outputs": [],
   "source": []
  },
  {
   "cell_type": "code",
   "execution_count": null,
   "id": "7513380a",
   "metadata": {},
   "outputs": [],
   "source": []
  },
  {
   "cell_type": "code",
   "execution_count": null,
   "id": "e53520b3",
   "metadata": {},
   "outputs": [],
   "source": []
  },
  {
   "cell_type": "code",
   "execution_count": null,
   "id": "3d2573fb",
   "metadata": {},
   "outputs": [],
   "source": []
  },
  {
   "cell_type": "code",
   "execution_count": null,
   "id": "f8fcc982",
   "metadata": {},
   "outputs": [],
   "source": []
  },
  {
   "cell_type": "markdown",
   "id": "31337845",
   "metadata": {},
   "source": [
    "3. Given,\n",
    "```\n",
    "a = np.array([[ 0,  1,  2,  3],\n",
    "              [ 4,  5,  6,  7],\n",
    "              [ 8,  9, 10, 11]])\n",
    "```\n",
    "\n",
    "Which of the following expressions create views of `a`? That is, in which cases do `a` and the created variable reference the same underlying array data? Check your work by using `np.shares_memory`.\n",
    "\n",
    "`a1 = a`\n",
    "\n",
    "`a2 = a[0, 0]`\n",
    "\n",
    "`a3 = a[:, 0]`\n",
    "\n",
    "`a4 = a[:, 0] + np.array([-1, -2, -3])`\n",
    "\n",
    "`a5 = np.copy(a[:, 0])`\n",
    "\n",
    "`a6 = a[np.newaxis]`\n",
    "\n",
    "`a7 = a.reshape(2, 3, 2)`\n",
    "\n",
    "`a8 = 2 + a`"
   ]
  },
  {
   "cell_type": "code",
   "execution_count": null,
   "id": "9fa2184c",
   "metadata": {},
   "outputs": [],
   "source": []
  },
  {
   "cell_type": "markdown",
   "id": "905394e7",
   "metadata": {},
   "source": [
    "4. Augmenting Array Data In-Place\n",
    "\n",
    "Given,\n",
    "```\n",
    "x = np.array([[ 0.,  1.,  2.,  3.],\n",
    "              [ 4.,  5.,  6.,  7.],\n",
    "              [ 8.,  9., 10., 11.]])\n",
    "\n",
    "y = x[0, :]\n",
    "```\n",
    "Which of the following expressions updates the data originally referenced by `x`?\n",
    "\n",
    "a. `x += 3`\n",
    "\n",
    "b. `y *= 2.4`\n",
    "\n",
    "c. `x = x + 3`\n",
    "\n",
    "d. `y = np.copy(y) \n",
    "   y += 3`\n",
    "\n",
    "e. `np.log(x[1:3], out=x[1:3])`\n",
    "\n",
    "f. `y[:] = y + 2`\n",
    "\n",
    "g. `x = np.square(x)`\n",
    "\n",
    "h. `x[:] = 0`\n",
    "\n",
    "i. `def f(z): z /= 3 \n",
    "   f(y)`\n",
    "\n",
    "j. `np.square(y, out=y)`"
   ]
  },
  {
   "cell_type": "markdown",
   "id": "dc1dd515",
   "metadata": {},
   "source": [
    "## Advanced Indexing\n"
   ]
  },
  {
   "cell_type": "markdown",
   "id": "24af0036",
   "metadata": {},
   "source": [
    "5. Given the following array:\n",
    "\n",
    "`y = np.array([ 0, -1, -2, -3, -4, -5])`\n",
    "\n",
    "Use advanced indexing, using an integer-array, to produce the following arrays:\n",
    "\n",
    "a. \n",
    "`array([-1])`\n",
    "\n",
    "b. \n",
    "`array([-1, -2, -1, -2])`\n",
    "\n",
    "c. \n",
    "`array([[ 0, -5], \n",
    "       [-1, -4]])`\n",
    "\n",
    "d. \n",
    "`array([[-2], \n",
    "       [-3], \n",
    "       [-2]])`"
   ]
  },
  {
   "cell_type": "code",
   "execution_count": null,
   "id": "2ae43fb0",
   "metadata": {},
   "outputs": [],
   "source": []
  },
  {
   "cell_type": "markdown",
   "id": "8f65aff1",
   "metadata": {},
   "source": [
    "6. Given the following array:\n",
    "```\n",
    "z = np.array([[[ 0,  1,  2,  3],\n",
    "               [ 4,  5,  6,  7],\n",
    "               [ 8,  9, 10, 11]],\n",
    "\n",
    "              [[12, 13, 14, 15],\n",
    "               [16, 17, 18, 19],\n",
    "               [20, 21, 22, 23]]])\n",
    "```\n",
    "Use advanced indexing, using integer-arrays, to produce the following arrays:\n",
    "\n",
    "a. \n",
    "`array([[ 0,  5, 10],\n",
    "       [12, 17, 22]])`\n",
    "\n",
    "b. \n",
    "`array([[ 0, 23],\n",
    "       [23,  0]])`"
   ]
  },
  {
   "cell_type": "code",
   "execution_count": null,
   "id": "9933fe36",
   "metadata": {},
   "outputs": [],
   "source": []
  }
 ],
 "metadata": {
  "kernelspec": {
   "display_name": "Python 3 (ipykernel)",
   "language": "python",
   "name": "python3"
  },
  "language_info": {
   "codemirror_mode": {
    "name": "ipython",
    "version": 3
   },
   "file_extension": ".py",
   "mimetype": "text/x-python",
   "name": "python",
   "nbconvert_exporter": "python",
   "pygments_lexer": "ipython3",
   "version": "3.8.10"
  }
 },
 "nbformat": 4,
 "nbformat_minor": 5
}
