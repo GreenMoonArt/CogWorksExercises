{
 "cells": [
  {
   "cell_type": "markdown",
   "id": "e20f8989",
   "metadata": {},
   "source": [
    "# Automatic Differentiation\n",
    "This notebook closely follows the section: \n",
    "https://rsokl.github.io/CogWeb/Video/Automatic_Differentiation.html\n",
    "Please refer to that section for additional information. \n",
    "\n",
    "## Automatic Differentiation at a Glance\n",
    "\n",
    "Suppose that we have the function\n",
    "\n",
    "\\begin{equation}\n",
    "f(x, y) = xy + x^2\n",
    "\\end{equation}\n",
    "\n",
    "and that we want to evaluate the first-order partial derivatives of $f$ at $(x=2, y=4)$.\n",
    "Let's evaluate these by hands so that we can know what to expect from our autodiff library.\n",
    "The relevant partial derivatives of $f$ are\n",
    "\n",
    "\\begin{align}\n",
    "\\frac{\\partial f}{\\partial x} &= y + 2x\\\\\n",
    "\\frac{\\partial f}{\\partial y} &= x\n",
    "\\end{align}\n",
    "\n",
    "Evaluated at $(x=2, y=4)$ gives:\n",
    "\n",
    "\\begin{align}\n",
    "\\frac{\\partial f}{\\partial x}\\big|_{x=2, y=4} &= 4 + 2(2) = 8\\\\\n",
    "\\frac{\\partial f}{\\partial y}\\big|_{x=2, y=4} &= 2\n",
    "\\end{align}\n",
    "\n",
    "To compute these derivatives in MyGrad, we need only compute $f$ at the point(s) of interest; we can then instruct MyGrad to compute the derivatives of $f$.\n",
    "In order for MyGrad to keep track of the mathematical operations that we are using, we must represent our variables of interest using `mygrad.Tensor` objects (more on these later)."
   ]
  },
  {
   "cell_type": "code",
   "execution_count": 3,
   "id": "b5775441",
   "metadata": {},
   "outputs": [
    {
     "data": {
      "text/plain": [
       "Tensor(12.)"
      ]
     },
     "execution_count": 3,
     "metadata": {},
     "output_type": "execute_result"
    }
   ],
   "source": [
    "# Defining x and y, and computing f(x, y)\n",
    "\n",
    "import mygrad as mg\n",
    "x = mg.tensor(2.0)\n",
    "y = mg.tensor(4.0)\n",
    "f = x * y + x ** 2  # computes f(2, 4)\n",
    "f # stores f(2, 4) as a mygrad-tensor\n"
   ]
  },
  {
   "cell_type": "markdown",
   "id": "8fbdccb2",
   "metadata": {},
   "source": [
    "<!-- #endregion -->\n",
    "\n",
    "The MyGrad-tensor `f` stores not only the value of $f(2, 4)$ but also the mathematical operations that were used to compute this value.\n",
    "With this information, we can instruct MyGrad to compute the derivatives of $f$ with respect to each of its variables - evaluated at the variable's specific value.\n",
    "We do this by calling the method `f.backward()` (\"backward\" is short for \"backpropagation\" which is the particular automatic differentiation algorithm that MyGrad employs).\n",
    "\n",
    "<!-- #region -->"
   ]
  },
  {
   "cell_type": "code",
   "execution_count": 4,
   "id": "f1dfbceb",
   "metadata": {},
   "outputs": [],
   "source": [
    "# Invoking autodiff, specifically backpropagation\n",
    "#\n",
    "# This says: \"evaluate all of the derivatives of `f` with\n",
    "# respect to all of the variables that `f` depends on\"\n",
    "#\n",
    "f.backward()  # this method doesn't return any value"
   ]
  },
  {
   "cell_type": "markdown",
   "id": "42ca7206",
   "metadata": {},
   "source": [
    "The derivatives are stored in each of the respective tensors, in the attribute `Tensor.grad`\n",
    "<!-- #endregion -->\n",
    "\n",
    "<!-- #region -->"
   ]
  },
  {
   "cell_type": "code",
   "execution_count": 5,
   "id": "e8f2c12a",
   "metadata": {},
   "outputs": [
    {
     "data": {
      "text/plain": [
       "array(2.)"
      ]
     },
     "execution_count": 5,
     "metadata": {},
     "output_type": "execute_result"
    }
   ],
   "source": [
    "# Accessing the derivatives of `f`, stored in the `Tensor.grad`\n",
    "# attribute. These are always stored as NumPy arrays.\n",
    "x.grad  # stores df/dx @ x=2, y=4\n",
    "\n",
    "\n",
    "y.grad  # stores df/dy @ x=2, y=4\n"
   ]
  },
  {
   "cell_type": "markdown",
   "id": "2e50c232",
   "metadata": {},
   "source": [
    "<!-- #endregion -->\n",
    "\n",
    "Voilà! We have officially used automatic differentiation to evaluate the derivatives of a function.\n",
    "Note that we didn't need to know any calculus or write down any derivatives to achieve this;\n",
    "all we needed to do was use evaluate the function itself while using MyGrad's `Tensor` object to represent our variables.\n",
    "From there, everything else was... _automatic_.\n",
    "\n",
    "MyGrad is capable of handling much more complex and interesting functions than this;\n",
    "it will behoove us to familiarize ourselves more thoroughly with this library.\n",
    "\n",
    "\n",
    "Given the same two-variable function:\n",
    "\n",
    "\\begin{equation}\n",
    "f(x, y) = xy + x^2\n",
    "\\end{equation}\n",
    "\n",
    "Use MyGrad to compute $f(3.5, 10.1)$ along with the derivatives $\\frac{\\partial f}{\\partial x}\\big|_{x=3.5, y=10.1}$ and $\\frac{\\partial f}{\\partial y}\\big|_{x=3.5, y=10.1}$"
   ]
  },
  {
   "cell_type": "code",
   "execution_count": 6,
   "id": "0ab7a429",
   "metadata": {},
   "outputs": [
    {
     "name": "stdout",
     "output_type": "stream",
     "text": [
      "Tensor(47.6) 17.1 3.5\n"
     ]
    }
   ],
   "source": [
    "# Defining x and y, and computing f(x, y)\n",
    "\n",
    "# <COGINST>\n",
    "import mygrad as mg\n",
    "\n",
    "x = mg.tensor(3.5)\n",
    "y = mg.tensor(10.1)\n",
    "\n",
    "f = x * y + x ** 2  # computes f(3.5, 10.1)\n",
    "f.backward()  # Triggers computations of derivatives\n",
    "\n",
    "print(f, x.grad, y.grad)\n",
    "# </COGINST>"
   ]
  },
  {
   "cell_type": "markdown",
   "id": "2bd22a66",
   "metadata": {},
   "source": [
    "## An Introduction to MyGrad\n",
    "\n",
    "NumPy is the cornerstone for nearly all numerical and scientific computing software in Python, and thus it is desirable for us to spend our time focused on learning NumPy rather than splitting our attention across multiple array-math libraries.\n",
    "For this reason, MyGrad was specifically designed to to act and feel just like NumPy.\n",
    "Thus, if you want to get good at using MyGrad, you should spend most of your time [mastering NumPy!](https://www.pythonlikeyoumeanit.com/module_3.html).\n",
    "\n",
    "The crux of MyGrad is the `Tensor` object.\n",
    "This is analagous to NumPy's `ndarray`, as it: \n",
    "\n",
    "- can store [N-dimensional array data](https://www.pythonlikeyoumeanit.com/Module3_IntroducingNumpy/AccessingDataAlongMultipleDimensions.html), which can be [manipulated (e.g. reshaped, transposed, etc.)](https://mygrad.readthedocs.io/en/latest/tensor_manipulation.html)\n",
    "- supports both [basic indexing](https://www.pythonlikeyoumeanit.com/Module3_IntroducingNumpy/BasicIndexing.html#Basic-Indexing) (accessing elements and subsections of tensor), [advanced indexing](https://www.pythonlikeyoumeanit.com/Module3_IntroducingNumpy/AdvancedIndexing.html) (accessing arbitrary collections of elements from the tensor)\n",
    "- permits convenient [vectorized operations](https://www.pythonlikeyoumeanit.com/Module3_IntroducingNumpy/VectorizedOperations.html), which obey [NumPy's broadcasting semantics](https://www.pythonlikeyoumeanit.com/Module3_IntroducingNumpy/Broadcasting.html)\n",
    "- mirrors NumPy's mechanism for providing [views of data](https://www.pythonlikeyoumeanit.com/Module3_IntroducingNumpy/BasicIndexing.html#Producing-a-View-of-an-Array) and [in-place updates on data](https://www.pythonlikeyoumeanit.com/Module3_IntroducingNumpy/BasicIndexing.html#Augmenting-the-Underlying-Data-of-an-Array)\n",
    "\n",
    "What distinguishes the `Tensor` is that designed to support all of these features, _plus_ it enables automatic differentiation through any mathematical operations that involve tensors.\n",
    "\n",
    "If you are already at least familiar with each of the above concepts, then you are already well-along your way to being a competent MyGrad user!\n",
    "If these aren't ringing a bell, then it is strongly recommended that you review the [NumPy module from Python Like You Mean It](https://www.pythonlikeyoumeanit.com/module_3.html).\n",
    "\n",
    "<!-- #region -->\n",
    "### Creating and Using Tensors\n",
    "\n",
    "A `Tensor` must be provided the array data that it is to store.\n",
    "This can be a single number, a sequence of numbers, a NumPy array, or an existing tensor."
   ]
  },
  {
   "cell_type": "code",
   "execution_count": 8,
   "id": "5292af77",
   "metadata": {},
   "outputs": [
    {
     "data": {
      "text/plain": [
       "Tensor([[0., 1., 2.],\n",
       "        [3., 4., 5.],\n",
       "        [6., 7., 8.]])"
      ]
     },
     "execution_count": 8,
     "metadata": {},
     "output_type": "execute_result"
    }
   ],
   "source": [
    "# Creating MyGrad Tensor instances\n",
    "import mygrad as mg\n",
    "import numpy as np\n",
    "\n",
    "# Making a 0-D tensor from a float\n",
    "mg.tensor(2.3)\n",
    "#Tensor(2.3)\n",
    "\n",
    "# Making a shape-(3,) tensor of 32-bit floats from a list\n",
    "mg.tensor([1.0, 2.0, 3.0], dtype=np.float32)\n",
    "#Tensor([1., 2., 3.], dtype=float32)\n",
    "\n",
    "# Making a shape-(3, 3) tensor from a a numpy array\n",
    "arr = np.ones((3, 3))\n",
    "mg.tensor(arr)\n",
    "#Tensor([[1., 1., 1.],\n",
    "#        [1., 1., 1.],\n",
    "#        [1., 1., 1.]])\n",
    "\n",
    "# creating a shape-(9,) tensor and reshaping\n",
    "# it into a shape-(3, 3) tensor\n",
    "x = mg.arange(9.)\n",
    "x\n",
    "#Tensor([0., 1., 2., 3., 4., 5., 6., 7., 8.])\n",
    "\n",
    "x.reshape(3, 3)\n",
    "#Tensor([[0., 1., 2.],\n",
    "#        [3., 4., 5.],\n",
    "#        [6., 7., 8.]])"
   ]
  },
  {
   "cell_type": "markdown",
   "id": "589b9405",
   "metadata": {},
   "source": [
    "<!-- #endregion -->\n",
    "\n",
    "<!-- #region -->\n",
    "Note that MyGrad uses NumPy's data-type system exactly so we can pass, e.g., `np.float32` anywhere there is a `dtype` argument in a MyGrad function to tell that function to return a tensor that stores 32-bit floats.\n",
    "\n",
    "### Accessing the Underlying NumPy Array\n",
    "\n",
    "Under the hood, every MyGrad tensor stores a NumPy array.\n",
    "This can be accessed via the `.data` attribute or using `numpy.asarray`."
   ]
  },
  {
   "cell_type": "code",
   "execution_count": 9,
   "id": "1bb07341",
   "metadata": {},
   "outputs": [
    {
     "data": {
      "text/plain": [
       "array([1.2, 2.4])"
      ]
     },
     "execution_count": 9,
     "metadata": {},
     "output_type": "execute_result"
    }
   ],
   "source": [
    "# Accessing a tensor's underlying numpy array\n",
    "tensor = mg.tensor([1.2, 2.4])\n",
    "\n",
    "tensor.data\n",
    "#array([1.2, 2.4])\n",
    "\n",
    "import numpy as np\n",
    "np.asarray(tensor)\n",
    "#array([1.2, 2.4])"
   ]
  },
  {
   "cell_type": "markdown",
   "id": "5a6d6f01",
   "metadata": {},
   "source": [
    "#### Tensor-Creation Functions\n",
    "\n",
    "MyGrad provides [a whole suite of tensor-creation functions](https://mygrad.readthedocs.io/en/latest/tensor_creation.html), which exactly mimic their NumPy counterparts.\n",
    "These can be used to conveniently create tensors of specific shapes and with specific values as their elements. \n",
    "<!-- #endregion -->\n",
    "\n",
    "<!-- #region -->"
   ]
  },
  {
   "cell_type": "code",
   "execution_count": 10,
   "id": "c8d40278",
   "metadata": {},
   "outputs": [
    {
     "data": {
      "text/plain": [
       "Tensor([[5.47687386e-01, 6.23313988e-01, 5.31794213e-01, 4.94203464e-01],\n",
       "        [2.41858413e-02, 6.08415547e-01, 9.00867097e-01, 4.94926932e-04],\n",
       "        [1.94475577e-01, 9.38867822e-01, 7.73864515e-01, 1.22907614e-01]])"
      ]
     },
     "execution_count": 10,
     "metadata": {},
     "output_type": "execute_result"
    }
   ],
   "source": [
    "# Demonstrating some of MyGrad's tensor-creation functions\n",
    "\n",
    "# Create a shape-(10,) tensor of subsequent integer-valued floats 0-9\n",
    "mg.arange(10.)\n",
    "#Tensor([0., 1., 2., 3., 4., 5., 6., 7., 8., 9.])\n",
    "\n",
    "# Create a shape-(2, 3, 4) tensor of 0s\n",
    "mg.zeros((2, 3, 4))\n",
    "#Tensor([[[0., 0., 0., 0.],\n",
    "#         [0., 0., 0., 0.],\n",
    "#         [0., 0., 0., 0.]],\n",
    "# \n",
    "#        [[0., 0., 0., 0.],\n",
    "#         [0., 0., 0., 0.],\n",
    "#         [0., 0., 0., 0.]]], dtype=float32)\n",
    "\n",
    "# Create a shape-(3, 4) tensor of numbers drawn randomly\n",
    "# from the interval [0, 1)\n",
    "mg.random.rand(3, 4)\n",
    "#Tensor([[0.84171912, 0.48059864, 0.68269986, 0.72591644],\n",
    "#        [0.2315483 , 0.04201723, 0.51519654, 0.2711251 ],\n",
    "#        [0.76460016, 0.49148986, 0.2825281 , 0.38161674]])"
   ]
  },
  {
   "cell_type": "markdown",
   "id": "c225c3bd",
   "metadata": {},
   "source": [
    "<!-- #endregion -->\n",
    "\n",
    "**Reading Comprehension Question: Tensor-creation function**\n",
    "Use `mg.linspace` and `mg.pi` to create a shape-(15,) tensor of 15 evenly-spaced elements over the interval $[0, \\pi]$"
   ]
  },
  {
   "cell_type": "code",
   "execution_count": 11,
   "id": "5011eb5c",
   "metadata": {},
   "outputs": [
    {
     "data": {
      "text/plain": [
       "Tensor([0.        , 0.22439948, 0.44879895, 0.67319843, 0.8975979 ,\n",
       "        1.12199738, 1.34639685, 1.57079633, 1.7951958 , 2.01959528,\n",
       "        2.24399475, 2.46839423, 2.6927937 , 2.91719318, 3.14159265])"
      ]
     },
     "execution_count": 11,
     "metadata": {},
     "output_type": "execute_result"
    }
   ],
   "source": [
    "# <COGINST>\n",
    "mg.linspace(0, mg.pi, 15)\n",
    "# </COGINST>"
   ]
  },
  {
   "cell_type": "markdown",
   "id": "1849289e",
   "metadata": {},
   "source": [
    "#### Standard Mathematical Operations\n",
    "\n",
    "In terms of math, MyGrad provides all of the same standard [arithmetic, trigonometric, and exponential (etc.) functions](https://mygrad.readthedocs.io/en/latest/math.html) as does NumPy.\n",
    "These are vectorized functions that obey NumPy's broadcasting semantics.\n",
    "That is, unary functions naturally operate element-wise over tensors and binary functions naturally map between corresponding pairs of elements between two same-shape tensors.\n",
    "\n",
    "<!-- #region -->"
   ]
  },
  {
   "cell_type": "code",
   "execution_count": 13,
   "id": "d61bd650",
   "metadata": {},
   "outputs": [
    {
     "data": {
      "text/plain": [
       "Tensor(-11.)"
      ]
     },
     "execution_count": 13,
     "metadata": {},
     "output_type": "execute_result"
    }
   ],
   "source": [
    "# Performing NumPy-like mathematical operation in MyGrad\n",
    "x = mg.tensor([0.0, 0.25, 0.5, 0.75, 1.0])\n",
    "y = mg.tensor([[0.],\n",
    "                [1.],\n",
    "                [2.]])\n",
    "\n",
    "# computing sine on each element of `x`\n",
    "mg.sin(x)\n",
    "#Tensor([0.        , 0.24740396, 0.47942554, 0.68163876, 0.84147098])\n",
    "\n",
    "# broadcast-multiply a shape-(5,) tensor with a shape-(3, 1) tensor\n",
    "# producing a shape-(3, 5) tensor\n",
    "x * y\n",
    "#Tensor([[0.  , 0.  , 0.  , 0.  , 0.  ],\n",
    "#        [0.  , 0.25, 0.5 , 0.75, 1.  ],\n",
    "#        [0.  , 0.5 , 1.  , 1.5 , 2.  ]])\n",
    "\n",
    "# summing the rows of `x * y`\n",
    "mg.sum(x * y, axis=0)\n",
    "#Tensor([0.  , 0.75, 1.5 , 2.25, 3.  ])\n",
    "\n",
    "# Demonstrating matmul. Note that `x @ y` is equivalent to `mg.matmul(x, y)`\n",
    "\n",
    "# Computing the dot-product between two 1D tensors\n",
    "x = mg.tensor([1.0, 2.0])\n",
    "y = mg.tensor([-3.0, -4.0])\n",
    "mg.matmul(x, y)\n",
    "\n",
    "#Tensor(-11.)\n"
   ]
  },
  {
   "cell_type": "markdown",
   "id": "48edae25",
   "metadata": {},
   "source": [
    "<!-- #endregion -->\n",
    "\n",
    "<!-- #region -->\n",
    "The distinguishing feature here is that all of these mathematical operations support automatic differentiation:"
   ]
  },
  {
   "cell_type": "code",
   "execution_count": 14,
   "id": "63b782ca",
   "metadata": {},
   "outputs": [
    {
     "data": {
      "text/plain": [
       "array([[2.5],\n",
       "       [2.5],\n",
       "       [2.5]])"
      ]
     },
     "execution_count": 14,
     "metadata": {},
     "output_type": "execute_result"
    }
   ],
   "source": [
    "x = mg.tensor([0.0, 0.25, 0.5, 0.75, 1.0])\n",
    "y = mg.tensor([[0.],\n",
    "                [1.],\n",
    "                [2.]])\n",
    "\n",
    "# computing the derivatives of `mg.sum(x * y)`\n",
    "f = mg.sum(x * y)\n",
    "f.backward()  # compute derivatives of f w.r.t x and y\n",
    "x.grad  # df/dx @ x=[0.0, 0.25, 0.5, 0.75, 1.0], y = [[0.],[1.],[2.]]\n",
    "#array([3., 3., 3., 3., 3.])\n",
    "y.grad\n",
    "#array([[2.5],\n",
    "#       [2.5],\n",
    "#       [2.5]])"
   ]
  },
  {
   "cell_type": "markdown",
   "id": "bbceabf7",
   "metadata": {},
   "source": [
    "<!-- #endregion -->\n",
    "\n",
    "<!-- #region -->\n",
    "## Running Automatic Differentiation\n",
    "\n",
    "With a bit of know-how about MyGrad under our belts, let's mosey through a thorough discussion of automatic differentiation.\n",
    "\n",
    "### MyGrad Bakes Autodiff Into Everything It Does\n",
    "All of the examples of MyGrad's mathematical operations laid out above behave _identically_ to their NumPy counterparts in terms of the numerical results that they produce.\n",
    "The difference is that MyGrad's functions were all designed to provide users with the ability to perform automatic differentiation through each of these operations.\n",
    "We saw this in action at the beginning of this section, in [\"Automatic Differentiation at a Glance\"](#Automatic-Differentiation-at-a-Glance), but that was before we were familiar with MyGrad.\n",
    "\n",
    "It is important to note that MyGrad's `Tensor` objects were written to \"overload\" the common arithmetic operators, such as `+` and `*`, so that you can use these familiar operators but actually invoke the corresponding MyGrad functions.\n",
    "For example, calling:"
   ]
  },
  {
   "cell_type": "code",
   "execution_count": null,
   "id": "762d44fe",
   "metadata": {},
   "outputs": [],
   "source": [
    "tensor_c = tensor_a + tensor_b"
   ]
  },
  {
   "cell_type": "markdown",
   "id": "f1e931d8",
   "metadata": {},
   "source": [
    "will _actually_ call"
   ]
  },
  {
   "cell_type": "code",
   "execution_count": null,
   "id": "705625c9",
   "metadata": {},
   "outputs": [],
   "source": [
    "tensor_c = mg.add(tensor_a, tensor_b)"
   ]
  },
  {
   "cell_type": "markdown",
   "id": "3b75deb3",
   "metadata": {},
   "source": [
    "So that we can perform automatic differentiation through this addition operation.\n",
    "We can read about Python's [special methods](https://www.pythonlikeyoumeanit.com/Module4_OOP/Special_Methods.html) to better understand how one can design a class to \"overload\" operators in this way.\n",
    "\n",
    "### MyGrad Adds \"Drop-In\" AutoDiff to NumPy\n",
    "\n",
    "MyGrad's functions are intentionally designed to mirror NumPy's functions almost exactly.\n",
    "In fact, for all of the NumPy functions that MyGrad mirrors, we can pass a tensor to a NumPy function and it will be \"coerced\" into returning a tensor instead of a NumPy array – thus we can autodifferentiate through NumPy functions!"
   ]
  },
  {
   "cell_type": "code",
   "execution_count": 15,
   "id": "6f5b7f5b",
   "metadata": {},
   "outputs": [
    {
     "data": {
      "text/plain": [
       "array(6.)"
      ]
     },
     "execution_count": 15,
     "metadata": {},
     "output_type": "execute_result"
    }
   ],
   "source": [
    "# showing off \"drop-in\" autodiff through NumPy functions\n",
    "import numpy as np\n",
    "x = mg.tensor(3.)\n",
    "\n",
    "y = np.square(x)  # note that we are using a numpy function here!\n",
    "y  # y is a tensor, not a numpy array\n",
    "#Tensor(9.)\n",
    "\n",
    "y.backward()  # compute derivatives of y\n",
    "x.grad  # stores dy/dx @ x=3\n",
    "#array(6.)"
   ]
  },
  {
   "cell_type": "markdown",
   "id": "335c421d",
   "metadata": {},
   "source": [
    "<!-- #endregion -->\n",
    "\n",
    "<!-- #region -->\n",
    "How does this work?\n",
    "MyGrad's tensor is able to tell NumPy's function to *actually* call a MyGrad function.\n",
    "\n",
    "So"
   ]
  },
  {
   "cell_type": "code",
   "execution_count": null,
   "id": "1a2a8ce7",
   "metadata": {},
   "outputs": [],
   "source": [
    "np.square(mg.tensor(3.))"
   ]
  },
  {
   "cell_type": "markdown",
   "id": "523b2379",
   "metadata": {},
   "source": [
    "*actually* calls"
   ]
  },
  {
   "cell_type": "code",
   "execution_count": null,
   "id": "f3104e95",
   "metadata": {},
   "outputs": [],
   "source": [
    "mg.square(mg.tensor(3.))"
   ]
  },
  {
   "cell_type": "markdown",
   "id": "34cbd01f",
   "metadata": {},
   "source": [
    "under the hood.\n",
    "Not only is this convenient, but it also means that you can take a complex function that is written in terms of numpy functions and pass a tensor through it so that you can differentiate that function!"
   ]
  },
  {
   "cell_type": "code",
   "execution_count": null,
   "id": "1119ddfe",
   "metadata": {},
   "outputs": [],
   "source": [
    "from some_library import complicated_numpy_function\n",
    "x = mg.tensor(...)\n",
    "out_tensor = complicated_numpy_function(x)\n",
    "out_tensor.backward() # compute d(complicated_numpy_function) / dx !"
   ]
  },
  {
   "cell_type": "markdown",
   "id": "56112b7c",
   "metadata": {},
   "source": [
    "<!-- #endregion -->\n",
    "\n",
    "<div class=\"alert alert-warning\">\n",
    "\n",
    "**Making it to the Big Leagues**:\n",
    "\n",
    "During this course, we will have grown so comfortable with automatic differentiation and array mathematics that it will be easy for us to graduate to using \"industrial-grade\" libraries like PyTorch and TensorFlow, which are much more appropriate for doing high-performance work.\n",
    "These libraries are far more sophisticated than is MyGrad (they have millions of dollars of funding and incredible expertise behind them!) and are able to leverage specialized computer hardware, like GPUs, to perform blazingly-fast computations.\n",
    "In fact, we will turn to __PyTorch__ for some of our capstone project work.\n",
    "</div>\n",
    "\n",
    "\n",
    "<!-- #region -->\n",
    "### The All-Important `.backward()` Method\n",
    "\n",
    "The sole method that we need to use to invoke autodiff in MyGrad is `Tensor.backward()`.\n",
    "Suppose that we have computed a tensor `ℒ` from other tensors; calling `ℒ.backward()` instructs MyGrad to compute the derivatives of `ℒ` with respect to all of the tensors that it depends on.\n",
    "These derivatives are then stored as NumPy arrays in the `.grad` attribute in each of the respective tensors that preceded `ℒ` in its computation.\n",
    "\n",
    "(Note that we are purposefully using the fancy unicode symbol `ℒ` (U+2112) to evoke an association with the \"loss\" function $\\mathscr{L}$, whose gradient we will be interested in computing in machine learning problems.\n",
    "That being said, this is purely an aesthetic choice made for this section; MyGrad does not care about the particular variable names that we use.)\n",
    "\n",
    "Let's take an example"
   ]
  },
  {
   "cell_type": "code",
   "execution_count": 16,
   "id": "0937a05e",
   "metadata": {},
   "outputs": [],
   "source": [
    "x = mg.tensor(2.0)\n",
    "y = mg.tensor(3.0)\n",
    "f = x * y  # actually calls: `mygrad.multiply(x, y)`\n",
    "ℒ = f + x - 2  # actually calls `mygrad.subtract(mygrad.add(f, x), 2)`"
   ]
  },
  {
   "cell_type": "markdown",
   "id": "23e48eae",
   "metadata": {},
   "source": [
    "See that $\\mathscr{L}$ is a function of $f$, $x$, and $y$, and that\n",
    "$f$ is a function of $x$ and $y$.\n",
    "Thus the \"terminal\" (final) tensor in this \"computational graph\" that we have laid out can be thought of as the function $\\mathscr{L}(f(x, y), x, y)$.\n",
    "\n",
    "As described above, calling `ℒ.backward()` instructs MyGrad to compute all of the derivatives of `ℒ`. \n",
    "It does this using an algorithm known as \"backpropagation\", which we will discuss later.\n",
    "Suffice it to say that MyGrad **simply uses the chain rule** ([reference](https://rsokl.github.io/CogWeb/Math_Materials/Chain_Rule.html)) to compute these derivatives."
   ]
  },
  {
   "cell_type": "code",
   "execution_count": 17,
   "id": "f39aa8db",
   "metadata": {},
   "outputs": [
    {
     "data": {
      "text/plain": [
       "array(4.)"
      ]
     },
     "execution_count": 17,
     "metadata": {},
     "output_type": "execute_result"
    }
   ],
   "source": [
    "ℒ.backward()  # triggers computation of derivatives of `ℒ`\n",
    "\n",
    "f.grad  # stores dℒ/df = ∂ℒ/∂f @ x=2, y=2\n",
    "#array(1.)\n",
    "\n",
    "y.grad  # stores dℒ/dy = ∂ℒ/∂f ∂f/∂y @ x=2, y=2\n",
    "#array(2.)\n",
    "\n",
    "x.grad  # stores dℒ/dx = ∂ℒ/∂f ∂f/∂x + ∂ℒ/∂x @ x=2, y=2\n",
    "#array(4.)"
   ]
  },
  {
   "cell_type": "markdown",
   "id": "b802a0f8",
   "metadata": {},
   "source": [
    "To re-emphasize the point made above: MyGrad was only able to access the necessary information to compute all of the derivatives of $\\mathscr{L}$ (via the chain rule) because all of our quantities of interest were stored as MyGrad-tensors, and all of the mathematical operations that we performed on them were functions supplied by MyGrad.\n",
    "<!-- #endregion -->\n",
    "\n",
    "<!-- #region -->\n",
    "Note that `x.grad` and `y.grad` together express the gradient of $\\mathscr{L}$, $\\vec{\\nabla}\\mathscr{L} = \\begin{bmatrix} \\frac{d \\mathscr{L}}{d x} & \\frac{d \\mathscr{L}}{dy} \\end{bmatrix}$, evaluated at $(x=2, y=3)$.\n",
    "These derivatives are now available for use; e.g. we can use these derivatives to perform gradient descent on $\\mathscr{L}$.\n",
    "\n",
    "### Nulling Gradients \n",
    "\n",
    "Involving any of these tensors in further operations will automatically \"null\" its derivative (i.e. set it to `None`)"
   ]
  },
  {
   "cell_type": "code",
   "execution_count": 18,
   "id": "a1b51948",
   "metadata": {},
   "outputs": [
    {
     "data": {
      "text/plain": [
       "True"
      ]
     },
     "execution_count": 18,
     "metadata": {},
     "output_type": "execute_result"
    }
   ],
   "source": [
    "# Involving a tensor in a new operation will automatically set\n",
    "# its `.grad` attribute to `None`\n",
    "x.grad\n",
    "#array(4.)\n",
    "\n",
    "x + 2  # nulls the grad stored by `x`\n",
    "#Tensor(4.0)\n",
    "\n",
    "x.grad is None\n",
    "#True"
   ]
  },
  {
   "cell_type": "markdown",
   "id": "7f403330",
   "metadata": {},
   "source": [
    "You can also explicitly call `Tensor.null_grad()` to set that tensor's `.grad` attribute back to `None`"
   ]
  },
  {
   "cell_type": "code",
   "execution_count": 19,
   "id": "22b15cf7",
   "metadata": {},
   "outputs": [
    {
     "data": {
      "text/plain": [
       "True"
      ]
     },
     "execution_count": 19,
     "metadata": {},
     "output_type": "execute_result"
    }
   ],
   "source": [
    "# Demonstrating `Tensor.null_grad()`\n",
    "y.grad\n",
    "#array(2.)\n",
    "\n",
    "y.null_grad()  # returns the tensor itself (for convenience)\n",
    "#Tensor(3.)\n",
    "\n",
    "y.grad is None\n",
    "#True"
   ]
  },
  {
   "cell_type": "markdown",
   "id": "f0b0d299",
   "metadata": {},
   "source": [
    "It is important to understand how these gradients get cleared since we will need to make repeated use of a tensor and its associated derivative during gradient descent, and thus we will need to discard all of a tensor's associated derivative between iterations of gradient descent.\n",
    "<!-- #endregion -->\n",
    "\n",
    "**Reading Comprehension: Some Basic Autodiff Exercises**\n",
    "\n",
    "Given $x = 2.5$, compute $\\frac{d\\mathscr{L}}{dx}\\big|_{x=2.5}$ for the following $\\mathscr{L}(x)$\n",
    "    \n",
    "1. $\\mathscr{L}(x) = 2 + 3x - 5x^2$\n",
    "2. $\\mathscr{L}(x) = \\cos{(\\sqrt{x})}$\n",
    "3. Given $f(x) = x^2$, $\\mathscr{L}(x) = (2 x f(x))^2 - f(x)$  ...define `f` as a separate tensor before computing `ℒ`."
   ]
  },
  {
   "cell_type": "code",
   "execution_count": 20,
   "id": "8d2d3059",
   "metadata": {},
   "outputs": [
    {
     "data": {
      "text/plain": [
       "array(-22.)"
      ]
     },
     "execution_count": 20,
     "metadata": {},
     "output_type": "execute_result"
    }
   ],
   "source": [
    "# <COGINST>\n",
    "import mygrad as mg\n",
    "\n",
    "x = mg.tensor(2.5)\n",
    "\n",
    "# 1. ℒ(x) = 2 + 3x - 5x**2\n",
    "L = 2 + 3 * x - 5 * x ** 2\n",
    "L.backward()\n",
    "x.grad  # dℒ/dx @ x=2.5 -> array(-22.)\n",
    "\n",
    "# </COGINST>"
   ]
  },
  {
   "cell_type": "code",
   "execution_count": 21,
   "id": "5deb95bb",
   "metadata": {},
   "outputs": [
    {
     "data": {
      "text/plain": [
       "array(-0.31621085)"
      ]
     },
     "execution_count": 21,
     "metadata": {},
     "output_type": "execute_result"
    }
   ],
   "source": [
    "# <COGINST>\n",
    "# 2. ℒ(x) = cos(sqrt(x))\n",
    "L = mg.cos(mg.sqrt(x))\n",
    "L.backward()\n",
    "x.grad  # dℒ/dx @ x=2.5 -> array(-0.31621085)\n",
    "# </COGINST>"
   ]
  },
  {
   "cell_type": "code",
   "execution_count": 22,
   "id": "f1c1f005",
   "metadata": {},
   "outputs": [
    {
     "data": {
      "text/plain": [
       "array(2338.75)"
      ]
     },
     "execution_count": 22,
     "metadata": {},
     "output_type": "execute_result"
    }
   ],
   "source": [
    "# <COGINST>\n",
    "# 3. f(x) = x**2, and ℒ(x) = (2x f(x))**2 - f(x)\n",
    "f = x ** 2\n",
    "L = (2 * x * f) ** 2 - f\n",
    "L.backward()\n",
    "x.grad  # dℒ/dx @ x=2.5 -> array(2338.75)\n",
    "# </COGINST>"
   ]
  },
  {
   "cell_type": "markdown",
   "id": "676ee90a",
   "metadata": {},
   "source": [
    "Given $x = 2.5$, verify that the following pairs of functions yield the same derivatives in MyGrad.\n",
    "    \n",
    "1. $\\mathscr{L}(x) = xx$ and $\\mathscr{L}(x) = x^2$\n",
    "2. $\\mathscr{L}(x) = e^{\\ln x}$ and $\\mathscr{L}(x) = x$"
   ]
  },
  {
   "cell_type": "code",
   "execution_count": 23,
   "id": "1272eb89",
   "metadata": {},
   "outputs": [
    {
     "data": {
      "text/plain": [
       "array(5.)"
      ]
     },
     "execution_count": 23,
     "metadata": {},
     "output_type": "execute_result"
    }
   ],
   "source": [
    "# <COGINST>\n",
    "x = mg.Tensor(2.5)\n",
    "\n",
    "# 1. ℒ(x) = x*x vs ℒ(x) = x ** 2\n",
    "(x * x).backward()\n",
    "x.grad  # -> array(5.)\n",
    "\n",
    "(x ** 2).backward()\n",
    "x.grad # -> array(5.)\n",
    "# </COGINST>"
   ]
  },
  {
   "cell_type": "code",
   "execution_count": 24,
   "id": "6d0c9cac",
   "metadata": {},
   "outputs": [
    {
     "data": {
      "text/plain": [
       "array(1.)"
      ]
     },
     "execution_count": 24,
     "metadata": {},
     "output_type": "execute_result"
    }
   ],
   "source": [
    "# <COGINST>\n",
    "# 2. ℒ(x) = exp(ln(x)) vs ℒ(x) = x\n",
    "mg.exp(mg.log(x)).backward()\n",
    "x.grad  # -> array(1.)\n",
    "\n",
    "x.backward()\n",
    "x.grad  # -> array(1.)\n",
    "# </COGINST>"
   ]
  },
  {
   "cell_type": "markdown",
   "id": "5ec095bc",
   "metadata": {},
   "source": [
    "<!-- #region -->\n",
    "### Constant Tensors and Mixed Operations with NumPy Arrays\n",
    "\n",
    "An important feature of MyGrad is that you can do mixed operations between its tensors and other array-like objects or numbers.\n",
    "Not only is this convenient, but it also enables us to designate certain quantities in our computations as **constants**, i.e. as quantities for which we **do not need to compute derivatives**.\n",
    "For example, in the following calculation MyGrad only computes one derivative, $\\frac{d\\mathscr{L}}{dx}$, of a binary function;\n",
    "this enables us to avoid unnecessary computation if we don't have any use for $\\frac{d\\mathscr{L}}{dy}$."
   ]
  },
  {
   "cell_type": "code",
   "execution_count": 25,
   "id": "1099d118",
   "metadata": {},
   "outputs": [
    {
     "data": {
      "text/plain": [
       "array([3., 4.])"
      ]
     },
     "execution_count": 25,
     "metadata": {},
     "output_type": "execute_result"
    }
   ],
   "source": [
    "# Demonstrating mixed operations between tensors\n",
    "# and non-tensors\n",
    "import numpy as np\n",
    "x = mg.tensor([1., 2.])\n",
    "y = np.array([3., 4.])  # this array acts like \"a constant\"\n",
    "ℒ = x * y\n",
    "ℒ.backward()  # only dℒ/dx is computed\n",
    "x.grad  # stores dℒ/dx is computed\n",
    "#array([3., 4.])"
   ]
  },
  {
   "cell_type": "markdown",
   "id": "d6cd1d76",
   "metadata": {},
   "source": [
    "<!-- #endregion -->\n",
    "\n",
    "<!-- #region -->\n",
    "All of MyGrad's functions also accept a \"constant\" argument, which, when specified as `True`, will cause the creation of a **constant tensor**.\n",
    "Just like when it encounters a NumPy array or Python number, MyGrad knows to skip the calculation of a derivative with respect to a constant tensor.\n",
    "We can check the `Tensor.constant` attribute to see if a tensor is a constant or not."
   ]
  },
  {
   "cell_type": "code",
   "execution_count": 26,
   "id": "29dd8d51",
   "metadata": {},
   "outputs": [
    {
     "data": {
      "text/plain": [
       "True"
      ]
     },
     "execution_count": 26,
     "metadata": {},
     "output_type": "execute_result"
    }
   ],
   "source": [
    "# Demonstrating the use of a constant Tensor\n",
    "import numpy as np\n",
    "x = mg.tensor([1., 2.])\n",
    "y = mg.tensor([3., 4.], constant=True)\n",
    "\n",
    "x.constant\n",
    "#False\n",
    "y.constant\n",
    "#True\n",
    "\n",
    "ℒ = x * y\n",
    "ℒ.backward()  # only dℒ/dx is computed\n",
    "x.grad\n",
    "#array([3., 4.])\n",
    "y.grad is None\n",
    "#True"
   ]
  },
  {
   "cell_type": "markdown",
   "id": "e1066285",
   "metadata": {},
   "source": [
    "<!-- #endregion -->\n",
    "\n",
    "<!-- #region -->\n",
    "All integer-dtype tensors are treated as constants:"
   ]
  },
  {
   "cell_type": "code",
   "execution_count": 27,
   "id": "a8cfe084",
   "metadata": {},
   "outputs": [
    {
     "data": {
      "text/plain": [
       "True"
      ]
     },
     "execution_count": 27,
     "metadata": {},
     "output_type": "execute_result"
    }
   ],
   "source": [
    "tensor_of_ints = mg.tensor([1, 2, 3])\n",
    "tensor_of_ints.constant\n",
    "#True"
   ]
  },
  {
   "cell_type": "markdown",
   "id": "b337d9f3",
   "metadata": {},
   "source": [
    "<!-- #endregion -->\n",
    "\n",
    "Operations only involving constants and constant tensors will naturally create constant tensors.\n",
    "\n",
    "<!-- #region -->"
   ]
  },
  {
   "cell_type": "code",
   "execution_count": 28,
   "id": "269b7d37",
   "metadata": {},
   "outputs": [
    {
     "data": {
      "text/plain": [
       "True"
      ]
     },
     "execution_count": 28,
     "metadata": {},
     "output_type": "execute_result"
    }
   ],
   "source": [
    "# Operations involving only constants will produce a constant\n",
    "out = mg.tensor([1.0, 2.0], constant=True) + mg.tensor([3.0, 4.0], constant=True)\n",
    "out.constant\n",
    "#True"
   ]
  },
  {
   "cell_type": "markdown",
   "id": "0c9a2aa7",
   "metadata": {},
   "source": [
    "<!-- #endregion -->\n",
    "\n",
    "<!-- #region -->\n",
    "And calling `.backward()` on a constant tensor will not do anything at all!"
   ]
  },
  {
   "cell_type": "code",
   "execution_count": 29,
   "id": "e0e8dbd8",
   "metadata": {},
   "outputs": [
    {
     "data": {
      "text/plain": [
       "True"
      ]
     },
     "execution_count": 29,
     "metadata": {},
     "output_type": "execute_result"
    }
   ],
   "source": [
    "# calling `.backward()` on a constant has no effect\n",
    "out.backward()\n",
    "out.grad is None"
   ]
  },
  {
   "cell_type": "markdown",
   "id": "04b918b7",
   "metadata": {},
   "source": [
    "<!-- #endregion -->\n",
    "\n",
    "It is useful to keep the intimate relationship between a MyGrad tensor and an underlying NumPy array in mind because it reminds us of how similar these libraries are, and it informs our intuition for how tensors behave.\n",
    "Furthermore, this will prove to be an important technical detail for when we perform gradient descent, where we will want to update directly the data being held by the tensor. \n",
    "\n",
    "<!-- #region -->\n",
    "## Gradient Descent with MyGrad\n",
    "\n",
    "Without further ado, let's leverage automatic differentiation to perform gradient descent on a simple function.\n",
    "To stick with a familiar territory, we will once again perform gradient descent on the simple function $\\mathscr{L}(w) = w^2$.\n",
    "By making sure that we store the value representing $w$ as a MyGrad tensor, and use it to calculate $L(w)$, we will be able to leverage autodiff.\n",
    "\n",
    "Recall that we will be updating $w$ according to the gradient-based step\n",
    "\n",
    "\\begin{equation}\n",
    "w_{\\mathrm{new}} = w_{\\mathrm{old}} - \\delta \\frac{\\mathrm{d}\\mathscr{L}}{\\mathrm{d}w}\\big|_{w_{\\mathrm{old}}}\n",
    "\\end{equation}\n",
    "\n",
    "Picking $w = 10$ as a starting point, using the learning rate $\\delta=0.3$, and taking ten steps, let's search for the minimum of $L$.\n",
    "One thing to note here is that we will update the NumPy array underlying the tensor `w` directly for the gradient-based update."
   ]
  },
  {
   "cell_type": "code",
   "execution_count": 30,
   "id": "5597c9d4",
   "metadata": {},
   "outputs": [
    {
     "name": "stdout",
     "output_type": "stream",
     "text": [
      "Tensor(10.)\n",
      "Tensor(4.)\n",
      "Tensor(1.6)\n",
      "Tensor(0.64)\n",
      "Tensor(0.256)\n",
      "Tensor(0.1024)\n",
      "Tensor(0.04096)\n",
      "Tensor(0.016384)\n",
      "Tensor(0.0065536)\n",
      "Tensor(0.00262144)\n",
      "Tensor(0.00104858)\n"
     ]
    }
   ],
   "source": [
    "# Performing gradient descent on ℒ(w) = w ** 2\n",
    "w = mg.tensor(10.0)\n",
    "learning_rate = 0.3\n",
    "num_steps = 10\n",
    "print(w)\n",
    "\n",
    "for _ in range(num_steps):\n",
    "    ℒ = w ** 2    # compute L(w)\n",
    "    ℒ.backward()  # compute derivative of L\n",
    "    \n",
    "    # w_new = w_old - lr * dℒ/dw\n",
    "    w.data -= learning_rate * w.grad  # update w via gradient-step\n",
    "    print(w)\n"
   ]
  },
  {
   "cell_type": "markdown",
   "id": "c1523377",
   "metadata": {},
   "source": [
    "See that the gradient descent algorithm is steadily guiding use towards the global minimum $w = 0$, and we didn't even need to do any calculus on our own!\n",
    "\n",
    "The line of code that we wrote to represent the gradient-step,"
   ]
  },
  {
   "cell_type": "code",
   "execution_count": null,
   "id": "e9c33779",
   "metadata": {},
   "outputs": [],
   "source": [
    "w.data -= learning_rate * w.grad"
   ]
  },
  {
   "cell_type": "markdown",
   "id": "c9579873",
   "metadata": {},
   "source": [
    "might be a little more nuanced than one might have expected.\n",
    "We could have instead written"
   ]
  },
  {
   "cell_type": "code",
   "execution_count": null,
   "id": "5aadd215",
   "metadata": {},
   "outputs": [],
   "source": [
    "w = w - learning_rate * w.grad"
   ]
  },
  {
   "cell_type": "markdown",
   "id": "9a45e77a",
   "metadata": {},
   "source": [
    "which more closely aligns with the mathematical equation written above.\n",
    "That being said, the former equation has two benefits, both in terms of optimizing computational speed and both deriving from the fact that we are operating directly on the NumPy array stored by `w` via `w.data`:\n",
    "\n",
    "1. The form `w.data -= learning_rate * w.grad` involves only NumPy arrays, thus we do not need to pay the extra computational overhead incurred by MyGrad's tracking of mathematical operations.\n",
    "2. Using the operator `-=` invokes an [augmented update](https://www.pythonlikeyoumeanit.com/Module3_IntroducingNumpy/BasicIndexing.html#Augmented-Assignments) on the data held by `w`, this means that the computer can directly overwrite the memory associated with `w.data` instead of allocating a new array and then replacing `w.data` with it.\n",
    "\n",
    "Neither of these points really matter for this extremely lightweight example, but they will make more of a difference when we are making many updates to numerous, large arrays of data, which will be the case when we are tuning the parameters of a neural network.\n",
    "Towards that end, be sure to carefully complete the following exercise...\n",
    "<!-- #endregion -->\n",
    "\n",
    "\n",
    "**Reading Comprehension: Writing a Generic Gradient-Update Function**:\n",
    "\n",
    "Complete the following Python function, which is responsible for taking an arbitrary collection (e.g. a list) of MyGrad tensors, **which are assumed to already store their relevant gradients**, and perform a gradient-step on each one of them.\n",
    "That is, assume that, outside of this function, `ℒ` has already been computed and `ℒ.backward()` was already invoked so that now all that is left to be done is perform the gradient-based step on each tensor.\n",
    "    \n",
    "This function will be a very useful utility for when you are optimizing a function involving multiple different variables.\n",
    "    \n",
    "(Hint: this should be a very brief function... much shorter than its docstring)"
   ]
  },
  {
   "cell_type": "code",
   "execution_count": 31,
   "id": "d9c3f8fb",
   "metadata": {},
   "outputs": [],
   "source": [
    "def gradient_step(tensors, learning_rate):\n",
    "    \"\"\"\n",
    "    Performs gradient-step in-place on each of the provides tensors \n",
    "    according to the standard formulation of gradient descent.\n",
    "\n",
    "    Parameters\n",
    "    ----------\n",
    "    tensors : Union[Tensor, Iterable[Tensor]]\n",
    "        A single tensor, or an iterable (e.g a list) of an arbitrary number of tensors.\n",
    "\n",
    "        If a `tensor.grad` is `None`for a specific tensor, the update on\n",
    "        that tensor is skipped.\n",
    "\n",
    "    learning_rate : float\n",
    "        The \"learning rate\" factor for each descent step. A positive number.\n",
    "\n",
    "    Notes\n",
    "    -----\n",
    "    The gradient-steps performed by this function occur in-place on each tensor,\n",
    "    thus this function does not return anything\n",
    "    \"\"\"\n",
    "    # If `tensors` is a single Tensor, make it into a list containing that tensor\n",
    "    # <COGINST>\n",
    "    if isinstance(tensors, mg.Tensor):\n",
    "        # Only one tensor was provided. Pack\n",
    "        # it into a list so it can be accessed via\n",
    "        # iteration\n",
    "        tensors = [tensors]\n",
    "    # </COGINST>\n",
    "    # Iterate over `tensors` using a for-loop.\n",
    "    #\n",
    "    # Update each tensor's underlying data using the gradient-step.\n",
    "    # If the tensor's gradient is not set (i.e. it is `None`), skip the tensor\n",
    "    # <COGINST>\n",
    "    for t in tensors:\n",
    "        if t.grad is not None:\n",
    "            t.data -= learning_rate * t.grad\n",
    "    # </COGINST>"
   ]
  },
  {
   "cell_type": "markdown",
   "id": "b1d1142f",
   "metadata": {},
   "source": [
    "Copy the gradient-descent code block from above, involving $\\mathscr{L}(w) = w^2$.\n",
    "Update it to use your `gradient_step` function.\n",
    "Run the code and check that it prints the expected steps."
   ]
  },
  {
   "cell_type": "code",
   "execution_count": 32,
   "id": "bbeac0a2",
   "metadata": {},
   "outputs": [
    {
     "name": "stdout",
     "output_type": "stream",
     "text": [
      "Tensor(10.)\n",
      "Tensor(4.)\n",
      "Tensor(1.6)\n",
      "Tensor(0.64)\n",
      "Tensor(0.256)\n",
      "Tensor(0.1024)\n",
      "Tensor(0.04096)\n",
      "Tensor(0.016384)\n",
      "Tensor(0.0065536)\n",
      "Tensor(0.00262144)\n",
      "Tensor(0.00104858)\n"
     ]
    }
   ],
   "source": [
    "# <COGINST>\n",
    "# Performing gradient descent on ℒ(w) = w ** 2\n",
    "w = mg.tensor(10.0)\n",
    "learning_rate = 0.3\n",
    "num_steps = 10\n",
    "print(w)\n",
    "\n",
    "for step_cnt in range(num_steps):\n",
    "    ℒ = w ** 2    # compute ℒ(w)\n",
    "    ℒ.backward()  # compute derivative of ℒ\n",
    "    gradient_step(w, learning_rate)\n",
    "    print(w)\n",
    "# </COGINST>"
   ]
  },
  {
   "cell_type": "markdown",
   "id": "54ce92f6",
   "metadata": {},
   "source": [
    "## Tensors as Collections of Scalar Variables\n",
    "\n",
    "Thus far we have focused on equations involving scalars, like `Tensor(2.0)`, which are zero-dimensional tensors.\n",
    "This was done intentionally, since we are most comfortable with thinking of equations that only involve scalars, such as $f(x) = x^2$; we intuitively know that $x$ represents a single number here.\n",
    "That being said, the `Tensor` object was clearly designed to be able to represent an $N$-dimensional array of data.\n",
    "How, then, are we to interpret the `.grad` attribute associated with a multidimensional tensor?\n",
    "The answer, generally, is that **each element of a tensor is to be interpreted as a scalar-valued variable**.\n",
    "\n",
    "Consider, for example, the following calculation\n",
    "\n",
    "<!-- #region -->"
   ]
  },
  {
   "cell_type": "code",
   "execution_count": 33,
   "id": "5e5d87db",
   "metadata": {},
   "outputs": [],
   "source": [
    "tensor = mg.tensor([2.0, 4.0, 8.0])\n",
    "arr = np.array([-1.0, 2.0, 0])\n",
    "# sum(-1 * x0**2 + 2 * x1**2 + 0 * x2**2)\n",
    "ℒ = (arr * tensor ** 2).sum()\n",
    "ℒ.backward()"
   ]
  },
  {
   "cell_type": "markdown",
   "id": "2926f9d2",
   "metadata": {},
   "source": [
    "<!-- #endregion -->\n",
    "\n",
    "What value(s) should we expect to be stored in `tensor.grad`?\n",
    "Take some time to think about this and see if you can convince yourself of an answer.\n",
    "\n",
    "Let's work out what we should expect the gradient to be given the aforementioned prescription: that each element of `tensor` should be treated like a distinct scalar-valued variable.\n",
    "I.e. we'll say $\\mathrm{tensor} = [x_0, x_1, x_2]$, then the equation for $\\mathscr{L}$ is\n",
    "\n",
    "\n",
    "\\begin{equation}\n",
    "\\mathscr{L} = -1\\:(x_0)^2 + 2\\:(x_1)^2 + 0\\:(x_2)^2\n",
    "\\end{equation}\n",
    "\n",
    "\n",
    "And `tensor.grad` will store $\\vec{\\nabla}\\mathscr{L}$ evaluated at the particular value stored by `tensor`\n",
    "\n",
    "<!-- #region -->\n",
    "\\begin{align}\n",
    "\\vec{\\nabla}\\mathscr{L} &= \\big[\\frac{\\mathrm{d}\\mathscr{L}}{\\mathrm{d}x_0},\\frac{\\mathrm{d}\\mathscr{L}}{\\mathrm{d}x_1},\\frac{\\mathrm{d}\\mathscr{L}}{\\mathrm{d}x_2}\\big]\\\\\n",
    "&= \\big[-2x_0,\\:4x_1,\\:0x_0\\big]\\\\\n",
    "\\vec{\\nabla}\\mathscr{L}\\big|_{x_0=2, x_1=4, x_2=8} &= \\big[-4,\\:16,\\:0\\big]\n",
    "\\end{align}\n",
    "\n",
    "Indeed this is what we find"
   ]
  },
  {
   "cell_type": "code",
   "execution_count": 34,
   "id": "a4e1148b",
   "metadata": {},
   "outputs": [
    {
     "data": {
      "text/plain": [
       "array([-4., 16.,  0.])"
      ]
     },
     "execution_count": 34,
     "metadata": {},
     "output_type": "execute_result"
    }
   ],
   "source": [
    "tensor.grad\n",
    "#array([-4., 16.,  0.])"
   ]
  },
  {
   "cell_type": "markdown",
   "id": "f04474db",
   "metadata": {},
   "source": [
    "<!-- #endregion -->\n",
    "\n",
    "Thus the `.grad` array has a clear correspondence with its associated tensor: if `tensor` is a N-dimensional tensor that is involved in **the calculation of a scalar** $\\mathscr{L}$ (and assuming that we invoked `ℒ.backward()`), then `t.grad` is an array **of the same shape as** `tensor` that stores the corresponding derivatives of $\\mathscr{L}$.\n",
    "\n",
    "That is, given that we think of a single element of a tensor to be a scalar-valued variable\n",
    "\n",
    "\n",
    "\\begin{equation}\n",
    "\\text{tensor}[i_1, \\dots, i_N] \\rightarrow x_{i_1, \\dots, i_N}\n",
    "\\end{equation}\n",
    "\n",
    "then the corresponding element of the associated gradient is the derivative involving that variable \n",
    "\n",
    "\\begin{equation}\n",
    "\\text{tensor.grad}[i_1, \\dots, i_N] \\rightarrow \\frac{\\mathrm{d}\\mathscr{L}}{\\mathrm{d} x_{i_1, \\dots, i_N}}\\\\\n",
    "\\end{equation}\n",
    "\n",
    "\n",
    "**Reading Comprehension: Descent Down a Parabolic Surface using MyGrad**:\n",
    "\n",
    "Using automatic differentiation with MyGrad, complete the following Python function that implements gradient descent on the skewed paraboloid $\\mathscr{L}(w_1, w_2) = 2 w_1^2 + 3 w_2^2$.\n",
    "\n",
    "Note that you should not need to derive/compute the partial derivatives of $\\mathscr{L}$ yourself; we will be using MyGrad to compute the derivatives for us.\n",
    "    \n",
    "Your calculation of $\\mathscr{L}(w_1, w_2) = 2 w_1^2 + 3 w_2^2$ should be fully vectorized; i.e. you should use a shape-(2,) tensor `w` to store $[w_1, w_2]$, and perform element-wise operations on it in order to compute $\\mathscr{L}$.\n",
    "Think about what array you can use do element-wise multiplication, but where you are performing `(2*, 3*)`.\n",
    "\n",
    "This code should look very similar to the code that was used to perform gradient descent down $\\mathscr{L}(w) = w^2$.\n",
    "\n",
    "Use your `gradient_step` function to make updates to `w`.\n",
    "    \n",
    "Test your function using the inputs `w_start=mg.tensor([2.0, 4.0])`, `learning_rate=0.1`, and `num_steps=10`."
   ]
  },
  {
   "cell_type": "code",
   "execution_count": 35,
   "id": "8efb6735",
   "metadata": {},
   "outputs": [
    {
     "data": {
      "text/plain": [
       "Tensor([0.01209324, 0.00041943])"
      ]
     },
     "execution_count": 35,
     "metadata": {},
     "output_type": "execute_result"
    }
   ],
   "source": [
    "import numpy as np\n",
    "\n",
    "def descent_down_2d_parabola(w_start, learning_rate, num_steps):\n",
    "    \"\"\"\n",
    "    Performs gradient descent on ℒ(w1, w2) = 2 * w1 ** 2 + 3 * w2 **2 , \n",
    "    returning the sequence of w-values: [w_start, ..., w_stop]\n",
    "\n",
    "    Parameters\n",
    "    ----------\n",
    "    w_start : mygrad.Tensor, shape-(2,)\n",
    "        The initial value of (w1, w2).\n",
    "\n",
    "    learning_rate : float\n",
    "        The \"learning rate\" factor for each descent step. A positive number.\n",
    "\n",
    "    num_steps : int\n",
    "        The number subsequent of descent steps taken. A non-negative number.\n",
    "\n",
    "    Returns\n",
    "    -------\n",
    "    Tensor, shape-(2,)\n",
    "        The final updated values of (w_1, w_2) \n",
    "    \"\"\"\n",
    "    # <COGINST>\n",
    "    # We don't want to mutate our input tensor,\n",
    "    # so we make a copy\n",
    "    w = mg.tensor(w_start) \n",
    "    \n",
    "    const = np.array([2.0, 3.0])\n",
    "    \n",
    "    for _ in range(num_steps):\n",
    "        ℒ = const * w ** 2\n",
    "        ℒ.backward()\n",
    "        # updates `w` in-place\n",
    "        gradient_step(w, learning_rate=learning_rate)\n",
    "    return w\n",
    "    # </COGINST>\n",
    "\n",
    "\n",
    "descent_down_2d_parabola(w_start=mg.tensor([2.0, 4.0]), learning_rate=0.1, num_steps=10)"
   ]
  },
  {
   "cell_type": "markdown",
   "id": "8e362802",
   "metadata": {},
   "source": [
    "Lastly, here is a nice function that we can use to plot a function and its derivative.\n",
    "You need not make any modifications to the code.\n",
    "Simply run the cell."
   ]
  },
  {
   "cell_type": "code",
   "execution_count": 36,
   "id": "640fa43d",
   "metadata": {},
   "outputs": [],
   "source": [
    "import matplotlib.pyplot as plt\n",
    "%matplotlib notebook\n",
    "\n",
    "def plot_func_and_deriv(x, func):\n",
    "    \"\"\" Plots func(x) and dfunc/dx on the same set of axes at the user-specified point\n",
    "    stored in ``x``.\n",
    "\n",
    "    Parameters\n",
    "    ----------\n",
    "    x : mygrad.Tensor, shape-(N,)\n",
    "        The positions at which `func` and its derivative will be\n",
    "        evaluated and plotted.\n",
    "\n",
    "    func: Callable[[Tensor], Tensor]\n",
    "        A unary function that is assumed to support backpropagation via MyGrad.\n",
    "        I.e. calling `func(x).backward()` will compute the derivative(s) of `func`\n",
    "        with respect to `x`.\n",
    "\n",
    "    Returns\n",
    "    -------\n",
    "    Tuple[Figure, Axis]\n",
    "        The figure and axis objects associated with the plot that was produced.\n",
    "    \"\"\"\n",
    "    fig, ax = plt.subplots()\n",
    "\n",
    "    x = mg.tensor(x)\n",
    "    y = func(x)  # evaluate function\n",
    "    y.backward() # compute df/dx\n",
    "\n",
    "    # We need to pass arrays to matplotlib's functions, not\n",
    "    # tensors\n",
    "    ax.plot(x.data, y.data, label=\"f(x)\")\n",
    "    ax.plot(x.data, x.grad, ls=\"--\", label=\"df/dx\")\n",
    "    ax.grid(True)\n",
    "    ax.legend()\n",
    "    ax.set_xlabel(\"x\")\n",
    "    return fig, ax"
   ]
  },
  {
   "cell_type": "markdown",
   "id": "19b338cd",
   "metadata": {},
   "source": [
    "Let's see this function in action!\n",
    "Note that `f` is written using NumPy functions but thanks to MyGrad's \"drop-in\" autodiff design we can still differentiate it as long as we pass a tensor to `f`!"
   ]
  },
  {
   "cell_type": "code",
   "execution_count": 37,
   "id": "a08e36b7",
   "metadata": {},
   "outputs": [
    {
     "data": {
      "application/javascript": [
       "/* Put everything inside the global mpl namespace */\n",
       "/* global mpl */\n",
       "window.mpl = {};\n",
       "\n",
       "mpl.get_websocket_type = function () {\n",
       "    if (typeof WebSocket !== 'undefined') {\n",
       "        return WebSocket;\n",
       "    } else if (typeof MozWebSocket !== 'undefined') {\n",
       "        return MozWebSocket;\n",
       "    } else {\n",
       "        alert(\n",
       "            'Your browser does not have WebSocket support. ' +\n",
       "                'Please try Chrome, Safari or Firefox ≥ 6. ' +\n",
       "                'Firefox 4 and 5 are also supported but you ' +\n",
       "                'have to enable WebSockets in about:config.'\n",
       "        );\n",
       "    }\n",
       "};\n",
       "\n",
       "mpl.figure = function (figure_id, websocket, ondownload, parent_element) {\n",
       "    this.id = figure_id;\n",
       "\n",
       "    this.ws = websocket;\n",
       "\n",
       "    this.supports_binary = this.ws.binaryType !== undefined;\n",
       "\n",
       "    if (!this.supports_binary) {\n",
       "        var warnings = document.getElementById('mpl-warnings');\n",
       "        if (warnings) {\n",
       "            warnings.style.display = 'block';\n",
       "            warnings.textContent =\n",
       "                'This browser does not support binary websocket messages. ' +\n",
       "                'Performance may be slow.';\n",
       "        }\n",
       "    }\n",
       "\n",
       "    this.imageObj = new Image();\n",
       "\n",
       "    this.context = undefined;\n",
       "    this.message = undefined;\n",
       "    this.canvas = undefined;\n",
       "    this.rubberband_canvas = undefined;\n",
       "    this.rubberband_context = undefined;\n",
       "    this.format_dropdown = undefined;\n",
       "\n",
       "    this.image_mode = 'full';\n",
       "\n",
       "    this.root = document.createElement('div');\n",
       "    this.root.setAttribute('style', 'display: inline-block');\n",
       "    this._root_extra_style(this.root);\n",
       "\n",
       "    parent_element.appendChild(this.root);\n",
       "\n",
       "    this._init_header(this);\n",
       "    this._init_canvas(this);\n",
       "    this._init_toolbar(this);\n",
       "\n",
       "    var fig = this;\n",
       "\n",
       "    this.waiting = false;\n",
       "\n",
       "    this.ws.onopen = function () {\n",
       "        fig.send_message('supports_binary', { value: fig.supports_binary });\n",
       "        fig.send_message('send_image_mode', {});\n",
       "        if (fig.ratio !== 1) {\n",
       "            fig.send_message('set_dpi_ratio', { dpi_ratio: fig.ratio });\n",
       "        }\n",
       "        fig.send_message('refresh', {});\n",
       "    };\n",
       "\n",
       "    this.imageObj.onload = function () {\n",
       "        if (fig.image_mode === 'full') {\n",
       "            // Full images could contain transparency (where diff images\n",
       "            // almost always do), so we need to clear the canvas so that\n",
       "            // there is no ghosting.\n",
       "            fig.context.clearRect(0, 0, fig.canvas.width, fig.canvas.height);\n",
       "        }\n",
       "        fig.context.drawImage(fig.imageObj, 0, 0);\n",
       "    };\n",
       "\n",
       "    this.imageObj.onunload = function () {\n",
       "        fig.ws.close();\n",
       "    };\n",
       "\n",
       "    this.ws.onmessage = this._make_on_message_function(this);\n",
       "\n",
       "    this.ondownload = ondownload;\n",
       "};\n",
       "\n",
       "mpl.figure.prototype._init_header = function () {\n",
       "    var titlebar = document.createElement('div');\n",
       "    titlebar.classList =\n",
       "        'ui-dialog-titlebar ui-widget-header ui-corner-all ui-helper-clearfix';\n",
       "    var titletext = document.createElement('div');\n",
       "    titletext.classList = 'ui-dialog-title';\n",
       "    titletext.setAttribute(\n",
       "        'style',\n",
       "        'width: 100%; text-align: center; padding: 3px;'\n",
       "    );\n",
       "    titlebar.appendChild(titletext);\n",
       "    this.root.appendChild(titlebar);\n",
       "    this.header = titletext;\n",
       "};\n",
       "\n",
       "mpl.figure.prototype._canvas_extra_style = function (_canvas_div) {};\n",
       "\n",
       "mpl.figure.prototype._root_extra_style = function (_canvas_div) {};\n",
       "\n",
       "mpl.figure.prototype._init_canvas = function () {\n",
       "    var fig = this;\n",
       "\n",
       "    var canvas_div = (this.canvas_div = document.createElement('div'));\n",
       "    canvas_div.setAttribute(\n",
       "        'style',\n",
       "        'border: 1px solid #ddd;' +\n",
       "            'box-sizing: content-box;' +\n",
       "            'clear: both;' +\n",
       "            'min-height: 1px;' +\n",
       "            'min-width: 1px;' +\n",
       "            'outline: 0;' +\n",
       "            'overflow: hidden;' +\n",
       "            'position: relative;' +\n",
       "            'resize: both;'\n",
       "    );\n",
       "\n",
       "    function on_keyboard_event_closure(name) {\n",
       "        return function (event) {\n",
       "            return fig.key_event(event, name);\n",
       "        };\n",
       "    }\n",
       "\n",
       "    canvas_div.addEventListener(\n",
       "        'keydown',\n",
       "        on_keyboard_event_closure('key_press')\n",
       "    );\n",
       "    canvas_div.addEventListener(\n",
       "        'keyup',\n",
       "        on_keyboard_event_closure('key_release')\n",
       "    );\n",
       "\n",
       "    this._canvas_extra_style(canvas_div);\n",
       "    this.root.appendChild(canvas_div);\n",
       "\n",
       "    var canvas = (this.canvas = document.createElement('canvas'));\n",
       "    canvas.classList.add('mpl-canvas');\n",
       "    canvas.setAttribute('style', 'box-sizing: content-box;');\n",
       "\n",
       "    this.context = canvas.getContext('2d');\n",
       "\n",
       "    var backingStore =\n",
       "        this.context.backingStorePixelRatio ||\n",
       "        this.context.webkitBackingStorePixelRatio ||\n",
       "        this.context.mozBackingStorePixelRatio ||\n",
       "        this.context.msBackingStorePixelRatio ||\n",
       "        this.context.oBackingStorePixelRatio ||\n",
       "        this.context.backingStorePixelRatio ||\n",
       "        1;\n",
       "\n",
       "    this.ratio = (window.devicePixelRatio || 1) / backingStore;\n",
       "\n",
       "    var rubberband_canvas = (this.rubberband_canvas = document.createElement(\n",
       "        'canvas'\n",
       "    ));\n",
       "    rubberband_canvas.setAttribute(\n",
       "        'style',\n",
       "        'box-sizing: content-box; position: absolute; left: 0; top: 0; z-index: 1;'\n",
       "    );\n",
       "\n",
       "    // Apply a ponyfill if ResizeObserver is not implemented by browser.\n",
       "    if (this.ResizeObserver === undefined) {\n",
       "        if (window.ResizeObserver !== undefined) {\n",
       "            this.ResizeObserver = window.ResizeObserver;\n",
       "        } else {\n",
       "            var obs = _JSXTOOLS_RESIZE_OBSERVER({});\n",
       "            this.ResizeObserver = obs.ResizeObserver;\n",
       "        }\n",
       "    }\n",
       "\n",
       "    this.resizeObserverInstance = new this.ResizeObserver(function (entries) {\n",
       "        var nentries = entries.length;\n",
       "        for (var i = 0; i < nentries; i++) {\n",
       "            var entry = entries[i];\n",
       "            var width, height;\n",
       "            if (entry.contentBoxSize) {\n",
       "                if (entry.contentBoxSize instanceof Array) {\n",
       "                    // Chrome 84 implements new version of spec.\n",
       "                    width = entry.contentBoxSize[0].inlineSize;\n",
       "                    height = entry.contentBoxSize[0].blockSize;\n",
       "                } else {\n",
       "                    // Firefox implements old version of spec.\n",
       "                    width = entry.contentBoxSize.inlineSize;\n",
       "                    height = entry.contentBoxSize.blockSize;\n",
       "                }\n",
       "            } else {\n",
       "                // Chrome <84 implements even older version of spec.\n",
       "                width = entry.contentRect.width;\n",
       "                height = entry.contentRect.height;\n",
       "            }\n",
       "\n",
       "            // Keep the size of the canvas and rubber band canvas in sync with\n",
       "            // the canvas container.\n",
       "            if (entry.devicePixelContentBoxSize) {\n",
       "                // Chrome 84 implements new version of spec.\n",
       "                canvas.setAttribute(\n",
       "                    'width',\n",
       "                    entry.devicePixelContentBoxSize[0].inlineSize\n",
       "                );\n",
       "                canvas.setAttribute(\n",
       "                    'height',\n",
       "                    entry.devicePixelContentBoxSize[0].blockSize\n",
       "                );\n",
       "            } else {\n",
       "                canvas.setAttribute('width', width * fig.ratio);\n",
       "                canvas.setAttribute('height', height * fig.ratio);\n",
       "            }\n",
       "            canvas.setAttribute(\n",
       "                'style',\n",
       "                'width: ' + width + 'px; height: ' + height + 'px;'\n",
       "            );\n",
       "\n",
       "            rubberband_canvas.setAttribute('width', width);\n",
       "            rubberband_canvas.setAttribute('height', height);\n",
       "\n",
       "            // And update the size in Python. We ignore the initial 0/0 size\n",
       "            // that occurs as the element is placed into the DOM, which should\n",
       "            // otherwise not happen due to the minimum size styling.\n",
       "            if (fig.ws.readyState == 1 && width != 0 && height != 0) {\n",
       "                fig.request_resize(width, height);\n",
       "            }\n",
       "        }\n",
       "    });\n",
       "    this.resizeObserverInstance.observe(canvas_div);\n",
       "\n",
       "    function on_mouse_event_closure(name) {\n",
       "        return function (event) {\n",
       "            return fig.mouse_event(event, name);\n",
       "        };\n",
       "    }\n",
       "\n",
       "    rubberband_canvas.addEventListener(\n",
       "        'mousedown',\n",
       "        on_mouse_event_closure('button_press')\n",
       "    );\n",
       "    rubberband_canvas.addEventListener(\n",
       "        'mouseup',\n",
       "        on_mouse_event_closure('button_release')\n",
       "    );\n",
       "    rubberband_canvas.addEventListener(\n",
       "        'dblclick',\n",
       "        on_mouse_event_closure('dblclick')\n",
       "    );\n",
       "    // Throttle sequential mouse events to 1 every 20ms.\n",
       "    rubberband_canvas.addEventListener(\n",
       "        'mousemove',\n",
       "        on_mouse_event_closure('motion_notify')\n",
       "    );\n",
       "\n",
       "    rubberband_canvas.addEventListener(\n",
       "        'mouseenter',\n",
       "        on_mouse_event_closure('figure_enter')\n",
       "    );\n",
       "    rubberband_canvas.addEventListener(\n",
       "        'mouseleave',\n",
       "        on_mouse_event_closure('figure_leave')\n",
       "    );\n",
       "\n",
       "    canvas_div.addEventListener('wheel', function (event) {\n",
       "        if (event.deltaY < 0) {\n",
       "            event.step = 1;\n",
       "        } else {\n",
       "            event.step = -1;\n",
       "        }\n",
       "        on_mouse_event_closure('scroll')(event);\n",
       "    });\n",
       "\n",
       "    canvas_div.appendChild(canvas);\n",
       "    canvas_div.appendChild(rubberband_canvas);\n",
       "\n",
       "    this.rubberband_context = rubberband_canvas.getContext('2d');\n",
       "    this.rubberband_context.strokeStyle = '#000000';\n",
       "\n",
       "    this._resize_canvas = function (width, height, forward) {\n",
       "        if (forward) {\n",
       "            canvas_div.style.width = width + 'px';\n",
       "            canvas_div.style.height = height + 'px';\n",
       "        }\n",
       "    };\n",
       "\n",
       "    // Disable right mouse context menu.\n",
       "    this.rubberband_canvas.addEventListener('contextmenu', function (_e) {\n",
       "        event.preventDefault();\n",
       "        return false;\n",
       "    });\n",
       "\n",
       "    function set_focus() {\n",
       "        canvas.focus();\n",
       "        canvas_div.focus();\n",
       "    }\n",
       "\n",
       "    window.setTimeout(set_focus, 100);\n",
       "};\n",
       "\n",
       "mpl.figure.prototype._init_toolbar = function () {\n",
       "    var fig = this;\n",
       "\n",
       "    var toolbar = document.createElement('div');\n",
       "    toolbar.classList = 'mpl-toolbar';\n",
       "    this.root.appendChild(toolbar);\n",
       "\n",
       "    function on_click_closure(name) {\n",
       "        return function (_event) {\n",
       "            return fig.toolbar_button_onclick(name);\n",
       "        };\n",
       "    }\n",
       "\n",
       "    function on_mouseover_closure(tooltip) {\n",
       "        return function (event) {\n",
       "            if (!event.currentTarget.disabled) {\n",
       "                return fig.toolbar_button_onmouseover(tooltip);\n",
       "            }\n",
       "        };\n",
       "    }\n",
       "\n",
       "    fig.buttons = {};\n",
       "    var buttonGroup = document.createElement('div');\n",
       "    buttonGroup.classList = 'mpl-button-group';\n",
       "    for (var toolbar_ind in mpl.toolbar_items) {\n",
       "        var name = mpl.toolbar_items[toolbar_ind][0];\n",
       "        var tooltip = mpl.toolbar_items[toolbar_ind][1];\n",
       "        var image = mpl.toolbar_items[toolbar_ind][2];\n",
       "        var method_name = mpl.toolbar_items[toolbar_ind][3];\n",
       "\n",
       "        if (!name) {\n",
       "            /* Instead of a spacer, we start a new button group. */\n",
       "            if (buttonGroup.hasChildNodes()) {\n",
       "                toolbar.appendChild(buttonGroup);\n",
       "            }\n",
       "            buttonGroup = document.createElement('div');\n",
       "            buttonGroup.classList = 'mpl-button-group';\n",
       "            continue;\n",
       "        }\n",
       "\n",
       "        var button = (fig.buttons[name] = document.createElement('button'));\n",
       "        button.classList = 'mpl-widget';\n",
       "        button.setAttribute('role', 'button');\n",
       "        button.setAttribute('aria-disabled', 'false');\n",
       "        button.addEventListener('click', on_click_closure(method_name));\n",
       "        button.addEventListener('mouseover', on_mouseover_closure(tooltip));\n",
       "\n",
       "        var icon_img = document.createElement('img');\n",
       "        icon_img.src = '_images/' + image + '.png';\n",
       "        icon_img.srcset = '_images/' + image + '_large.png 2x';\n",
       "        icon_img.alt = tooltip;\n",
       "        button.appendChild(icon_img);\n",
       "\n",
       "        buttonGroup.appendChild(button);\n",
       "    }\n",
       "\n",
       "    if (buttonGroup.hasChildNodes()) {\n",
       "        toolbar.appendChild(buttonGroup);\n",
       "    }\n",
       "\n",
       "    var fmt_picker = document.createElement('select');\n",
       "    fmt_picker.classList = 'mpl-widget';\n",
       "    toolbar.appendChild(fmt_picker);\n",
       "    this.format_dropdown = fmt_picker;\n",
       "\n",
       "    for (var ind in mpl.extensions) {\n",
       "        var fmt = mpl.extensions[ind];\n",
       "        var option = document.createElement('option');\n",
       "        option.selected = fmt === mpl.default_extension;\n",
       "        option.innerHTML = fmt;\n",
       "        fmt_picker.appendChild(option);\n",
       "    }\n",
       "\n",
       "    var status_bar = document.createElement('span');\n",
       "    status_bar.classList = 'mpl-message';\n",
       "    toolbar.appendChild(status_bar);\n",
       "    this.message = status_bar;\n",
       "};\n",
       "\n",
       "mpl.figure.prototype.request_resize = function (x_pixels, y_pixels) {\n",
       "    // Request matplotlib to resize the figure. Matplotlib will then trigger a resize in the client,\n",
       "    // which will in turn request a refresh of the image.\n",
       "    this.send_message('resize', { width: x_pixels, height: y_pixels });\n",
       "};\n",
       "\n",
       "mpl.figure.prototype.send_message = function (type, properties) {\n",
       "    properties['type'] = type;\n",
       "    properties['figure_id'] = this.id;\n",
       "    this.ws.send(JSON.stringify(properties));\n",
       "};\n",
       "\n",
       "mpl.figure.prototype.send_draw_message = function () {\n",
       "    if (!this.waiting) {\n",
       "        this.waiting = true;\n",
       "        this.ws.send(JSON.stringify({ type: 'draw', figure_id: this.id }));\n",
       "    }\n",
       "};\n",
       "\n",
       "mpl.figure.prototype.handle_save = function (fig, _msg) {\n",
       "    var format_dropdown = fig.format_dropdown;\n",
       "    var format = format_dropdown.options[format_dropdown.selectedIndex].value;\n",
       "    fig.ondownload(fig, format);\n",
       "};\n",
       "\n",
       "mpl.figure.prototype.handle_resize = function (fig, msg) {\n",
       "    var size = msg['size'];\n",
       "    if (size[0] !== fig.canvas.width || size[1] !== fig.canvas.height) {\n",
       "        fig._resize_canvas(size[0], size[1], msg['forward']);\n",
       "        fig.send_message('refresh', {});\n",
       "    }\n",
       "};\n",
       "\n",
       "mpl.figure.prototype.handle_rubberband = function (fig, msg) {\n",
       "    var x0 = msg['x0'] / fig.ratio;\n",
       "    var y0 = (fig.canvas.height - msg['y0']) / fig.ratio;\n",
       "    var x1 = msg['x1'] / fig.ratio;\n",
       "    var y1 = (fig.canvas.height - msg['y1']) / fig.ratio;\n",
       "    x0 = Math.floor(x0) + 0.5;\n",
       "    y0 = Math.floor(y0) + 0.5;\n",
       "    x1 = Math.floor(x1) + 0.5;\n",
       "    y1 = Math.floor(y1) + 0.5;\n",
       "    var min_x = Math.min(x0, x1);\n",
       "    var min_y = Math.min(y0, y1);\n",
       "    var width = Math.abs(x1 - x0);\n",
       "    var height = Math.abs(y1 - y0);\n",
       "\n",
       "    fig.rubberband_context.clearRect(\n",
       "        0,\n",
       "        0,\n",
       "        fig.canvas.width / fig.ratio,\n",
       "        fig.canvas.height / fig.ratio\n",
       "    );\n",
       "\n",
       "    fig.rubberband_context.strokeRect(min_x, min_y, width, height);\n",
       "};\n",
       "\n",
       "mpl.figure.prototype.handle_figure_label = function (fig, msg) {\n",
       "    // Updates the figure title.\n",
       "    fig.header.textContent = msg['label'];\n",
       "};\n",
       "\n",
       "mpl.figure.prototype.handle_cursor = function (fig, msg) {\n",
       "    var cursor = msg['cursor'];\n",
       "    switch (cursor) {\n",
       "        case 0:\n",
       "            cursor = 'pointer';\n",
       "            break;\n",
       "        case 1:\n",
       "            cursor = 'default';\n",
       "            break;\n",
       "        case 2:\n",
       "            cursor = 'crosshair';\n",
       "            break;\n",
       "        case 3:\n",
       "            cursor = 'move';\n",
       "            break;\n",
       "    }\n",
       "    fig.rubberband_canvas.style.cursor = cursor;\n",
       "};\n",
       "\n",
       "mpl.figure.prototype.handle_message = function (fig, msg) {\n",
       "    fig.message.textContent = msg['message'];\n",
       "};\n",
       "\n",
       "mpl.figure.prototype.handle_draw = function (fig, _msg) {\n",
       "    // Request the server to send over a new figure.\n",
       "    fig.send_draw_message();\n",
       "};\n",
       "\n",
       "mpl.figure.prototype.handle_image_mode = function (fig, msg) {\n",
       "    fig.image_mode = msg['mode'];\n",
       "};\n",
       "\n",
       "mpl.figure.prototype.handle_history_buttons = function (fig, msg) {\n",
       "    for (var key in msg) {\n",
       "        if (!(key in fig.buttons)) {\n",
       "            continue;\n",
       "        }\n",
       "        fig.buttons[key].disabled = !msg[key];\n",
       "        fig.buttons[key].setAttribute('aria-disabled', !msg[key]);\n",
       "    }\n",
       "};\n",
       "\n",
       "mpl.figure.prototype.handle_navigate_mode = function (fig, msg) {\n",
       "    if (msg['mode'] === 'PAN') {\n",
       "        fig.buttons['Pan'].classList.add('active');\n",
       "        fig.buttons['Zoom'].classList.remove('active');\n",
       "    } else if (msg['mode'] === 'ZOOM') {\n",
       "        fig.buttons['Pan'].classList.remove('active');\n",
       "        fig.buttons['Zoom'].classList.add('active');\n",
       "    } else {\n",
       "        fig.buttons['Pan'].classList.remove('active');\n",
       "        fig.buttons['Zoom'].classList.remove('active');\n",
       "    }\n",
       "};\n",
       "\n",
       "mpl.figure.prototype.updated_canvas_event = function () {\n",
       "    // Called whenever the canvas gets updated.\n",
       "    this.send_message('ack', {});\n",
       "};\n",
       "\n",
       "// A function to construct a web socket function for onmessage handling.\n",
       "// Called in the figure constructor.\n",
       "mpl.figure.prototype._make_on_message_function = function (fig) {\n",
       "    return function socket_on_message(evt) {\n",
       "        if (evt.data instanceof Blob) {\n",
       "            var img = evt.data;\n",
       "            if (img.type !== 'image/png') {\n",
       "                /* FIXME: We get \"Resource interpreted as Image but\n",
       "                 * transferred with MIME type text/plain:\" errors on\n",
       "                 * Chrome.  But how to set the MIME type?  It doesn't seem\n",
       "                 * to be part of the websocket stream */\n",
       "                img.type = 'image/png';\n",
       "            }\n",
       "\n",
       "            /* Free the memory for the previous frames */\n",
       "            if (fig.imageObj.src) {\n",
       "                (window.URL || window.webkitURL).revokeObjectURL(\n",
       "                    fig.imageObj.src\n",
       "                );\n",
       "            }\n",
       "\n",
       "            fig.imageObj.src = (window.URL || window.webkitURL).createObjectURL(\n",
       "                img\n",
       "            );\n",
       "            fig.updated_canvas_event();\n",
       "            fig.waiting = false;\n",
       "            return;\n",
       "        } else if (\n",
       "            typeof evt.data === 'string' &&\n",
       "            evt.data.slice(0, 21) === 'data:image/png;base64'\n",
       "        ) {\n",
       "            fig.imageObj.src = evt.data;\n",
       "            fig.updated_canvas_event();\n",
       "            fig.waiting = false;\n",
       "            return;\n",
       "        }\n",
       "\n",
       "        var msg = JSON.parse(evt.data);\n",
       "        var msg_type = msg['type'];\n",
       "\n",
       "        // Call the  \"handle_{type}\" callback, which takes\n",
       "        // the figure and JSON message as its only arguments.\n",
       "        try {\n",
       "            var callback = fig['handle_' + msg_type];\n",
       "        } catch (e) {\n",
       "            console.log(\n",
       "                \"No handler for the '\" + msg_type + \"' message type: \",\n",
       "                msg\n",
       "            );\n",
       "            return;\n",
       "        }\n",
       "\n",
       "        if (callback) {\n",
       "            try {\n",
       "                // console.log(\"Handling '\" + msg_type + \"' message: \", msg);\n",
       "                callback(fig, msg);\n",
       "            } catch (e) {\n",
       "                console.log(\n",
       "                    \"Exception inside the 'handler_\" + msg_type + \"' callback:\",\n",
       "                    e,\n",
       "                    e.stack,\n",
       "                    msg\n",
       "                );\n",
       "            }\n",
       "        }\n",
       "    };\n",
       "};\n",
       "\n",
       "// from http://stackoverflow.com/questions/1114465/getting-mouse-location-in-canvas\n",
       "mpl.findpos = function (e) {\n",
       "    //this section is from http://www.quirksmode.org/js/events_properties.html\n",
       "    var targ;\n",
       "    if (!e) {\n",
       "        e = window.event;\n",
       "    }\n",
       "    if (e.target) {\n",
       "        targ = e.target;\n",
       "    } else if (e.srcElement) {\n",
       "        targ = e.srcElement;\n",
       "    }\n",
       "    if (targ.nodeType === 3) {\n",
       "        // defeat Safari bug\n",
       "        targ = targ.parentNode;\n",
       "    }\n",
       "\n",
       "    // pageX,Y are the mouse positions relative to the document\n",
       "    var boundingRect = targ.getBoundingClientRect();\n",
       "    var x = e.pageX - (boundingRect.left + document.body.scrollLeft);\n",
       "    var y = e.pageY - (boundingRect.top + document.body.scrollTop);\n",
       "\n",
       "    return { x: x, y: y };\n",
       "};\n",
       "\n",
       "/*\n",
       " * return a copy of an object with only non-object keys\n",
       " * we need this to avoid circular references\n",
       " * http://stackoverflow.com/a/24161582/3208463\n",
       " */\n",
       "function simpleKeys(original) {\n",
       "    return Object.keys(original).reduce(function (obj, key) {\n",
       "        if (typeof original[key] !== 'object') {\n",
       "            obj[key] = original[key];\n",
       "        }\n",
       "        return obj;\n",
       "    }, {});\n",
       "}\n",
       "\n",
       "mpl.figure.prototype.mouse_event = function (event, name) {\n",
       "    var canvas_pos = mpl.findpos(event);\n",
       "\n",
       "    if (name === 'button_press') {\n",
       "        this.canvas.focus();\n",
       "        this.canvas_div.focus();\n",
       "    }\n",
       "\n",
       "    var x = canvas_pos.x * this.ratio;\n",
       "    var y = canvas_pos.y * this.ratio;\n",
       "\n",
       "    this.send_message(name, {\n",
       "        x: x,\n",
       "        y: y,\n",
       "        button: event.button,\n",
       "        step: event.step,\n",
       "        guiEvent: simpleKeys(event),\n",
       "    });\n",
       "\n",
       "    /* This prevents the web browser from automatically changing to\n",
       "     * the text insertion cursor when the button is pressed.  We want\n",
       "     * to control all of the cursor setting manually through the\n",
       "     * 'cursor' event from matplotlib */\n",
       "    event.preventDefault();\n",
       "    return false;\n",
       "};\n",
       "\n",
       "mpl.figure.prototype._key_event_extra = function (_event, _name) {\n",
       "    // Handle any extra behaviour associated with a key event\n",
       "};\n",
       "\n",
       "mpl.figure.prototype.key_event = function (event, name) {\n",
       "    // Prevent repeat events\n",
       "    if (name === 'key_press') {\n",
       "        if (event.key === this._key) {\n",
       "            return;\n",
       "        } else {\n",
       "            this._key = event.key;\n",
       "        }\n",
       "    }\n",
       "    if (name === 'key_release') {\n",
       "        this._key = null;\n",
       "    }\n",
       "\n",
       "    var value = '';\n",
       "    if (event.ctrlKey && event.key !== 'Control') {\n",
       "        value += 'ctrl+';\n",
       "    }\n",
       "    else if (event.altKey && event.key !== 'Alt') {\n",
       "        value += 'alt+';\n",
       "    }\n",
       "    else if (event.shiftKey && event.key !== 'Shift') {\n",
       "        value += 'shift+';\n",
       "    }\n",
       "\n",
       "    value += 'k' + event.key;\n",
       "\n",
       "    this._key_event_extra(event, name);\n",
       "\n",
       "    this.send_message(name, { key: value, guiEvent: simpleKeys(event) });\n",
       "    return false;\n",
       "};\n",
       "\n",
       "mpl.figure.prototype.toolbar_button_onclick = function (name) {\n",
       "    if (name === 'download') {\n",
       "        this.handle_save(this, null);\n",
       "    } else {\n",
       "        this.send_message('toolbar_button', { name: name });\n",
       "    }\n",
       "};\n",
       "\n",
       "mpl.figure.prototype.toolbar_button_onmouseover = function (tooltip) {\n",
       "    this.message.textContent = tooltip;\n",
       "};\n",
       "\n",
       "///////////////// REMAINING CONTENT GENERATED BY embed_js.py /////////////////\n",
       "// prettier-ignore\n",
       "var _JSXTOOLS_RESIZE_OBSERVER=function(A){var t,i=new WeakMap,n=new WeakMap,a=new WeakMap,r=new WeakMap,o=new Set;function s(e){if(!(this instanceof s))throw new TypeError(\"Constructor requires 'new' operator\");i.set(this,e)}function h(){throw new TypeError(\"Function is not a constructor\")}function c(e,t,i,n){e=0 in arguments?Number(arguments[0]):0,t=1 in arguments?Number(arguments[1]):0,i=2 in arguments?Number(arguments[2]):0,n=3 in arguments?Number(arguments[3]):0,this.right=(this.x=this.left=e)+(this.width=i),this.bottom=(this.y=this.top=t)+(this.height=n),Object.freeze(this)}function d(){t=requestAnimationFrame(d);var s=new WeakMap,p=new Set;o.forEach((function(t){r.get(t).forEach((function(i){var r=t instanceof window.SVGElement,o=a.get(t),d=r?0:parseFloat(o.paddingTop),f=r?0:parseFloat(o.paddingRight),l=r?0:parseFloat(o.paddingBottom),u=r?0:parseFloat(o.paddingLeft),g=r?0:parseFloat(o.borderTopWidth),m=r?0:parseFloat(o.borderRightWidth),w=r?0:parseFloat(o.borderBottomWidth),b=u+f,F=d+l,v=(r?0:parseFloat(o.borderLeftWidth))+m,W=g+w,y=r?0:t.offsetHeight-W-t.clientHeight,E=r?0:t.offsetWidth-v-t.clientWidth,R=b+v,z=F+W,M=r?t.width:parseFloat(o.width)-R-E,O=r?t.height:parseFloat(o.height)-z-y;if(n.has(t)){var k=n.get(t);if(k[0]===M&&k[1]===O)return}n.set(t,[M,O]);var S=Object.create(h.prototype);S.target=t,S.contentRect=new c(u,d,M,O),s.has(i)||(s.set(i,[]),p.add(i)),s.get(i).push(S)}))})),p.forEach((function(e){i.get(e).call(e,s.get(e),e)}))}return s.prototype.observe=function(i){if(i instanceof window.Element){r.has(i)||(r.set(i,new Set),o.add(i),a.set(i,window.getComputedStyle(i)));var n=r.get(i);n.has(this)||n.add(this),cancelAnimationFrame(t),t=requestAnimationFrame(d)}},s.prototype.unobserve=function(i){if(i instanceof window.Element&&r.has(i)){var n=r.get(i);n.has(this)&&(n.delete(this),n.size||(r.delete(i),o.delete(i))),n.size||r.delete(i),o.size||cancelAnimationFrame(t)}},A.DOMRectReadOnly=c,A.ResizeObserver=s,A.ResizeObserverEntry=h,A}; // eslint-disable-line\n",
       "mpl.toolbar_items = [[\"Home\", \"Reset original view\", \"fa fa-home icon-home\", \"home\"], [\"Back\", \"Back to previous view\", \"fa fa-arrow-left icon-arrow-left\", \"back\"], [\"Forward\", \"Forward to next view\", \"fa fa-arrow-right icon-arrow-right\", \"forward\"], [\"\", \"\", \"\", \"\"], [\"Pan\", \"Left button pans, Right button zooms\\nx/y fixes axis, CTRL fixes aspect\", \"fa fa-arrows icon-move\", \"pan\"], [\"Zoom\", \"Zoom to rectangle\\nx/y fixes axis, CTRL fixes aspect\", \"fa fa-square-o icon-check-empty\", \"zoom\"], [\"\", \"\", \"\", \"\"], [\"Download\", \"Download plot\", \"fa fa-floppy-o icon-save\", \"download\"]];\n",
       "\n",
       "mpl.extensions = [\"eps\", \"jpeg\", \"pgf\", \"pdf\", \"png\", \"ps\", \"raw\", \"svg\", \"tif\"];\n",
       "\n",
       "mpl.default_extension = \"png\";/* global mpl */\n",
       "\n",
       "var comm_websocket_adapter = function (comm) {\n",
       "    // Create a \"websocket\"-like object which calls the given IPython comm\n",
       "    // object with the appropriate methods. Currently this is a non binary\n",
       "    // socket, so there is still some room for performance tuning.\n",
       "    var ws = {};\n",
       "\n",
       "    ws.binaryType = comm.kernel.ws.binaryType;\n",
       "    ws.readyState = comm.kernel.ws.readyState;\n",
       "    function updateReadyState(_event) {\n",
       "        if (comm.kernel.ws) {\n",
       "            ws.readyState = comm.kernel.ws.readyState;\n",
       "        } else {\n",
       "            ws.readyState = 3; // Closed state.\n",
       "        }\n",
       "    }\n",
       "    comm.kernel.ws.addEventListener('open', updateReadyState);\n",
       "    comm.kernel.ws.addEventListener('close', updateReadyState);\n",
       "    comm.kernel.ws.addEventListener('error', updateReadyState);\n",
       "\n",
       "    ws.close = function () {\n",
       "        comm.close();\n",
       "    };\n",
       "    ws.send = function (m) {\n",
       "        //console.log('sending', m);\n",
       "        comm.send(m);\n",
       "    };\n",
       "    // Register the callback with on_msg.\n",
       "    comm.on_msg(function (msg) {\n",
       "        //console.log('receiving', msg['content']['data'], msg);\n",
       "        var data = msg['content']['data'];\n",
       "        if (data['blob'] !== undefined) {\n",
       "            data = {\n",
       "                data: new Blob(msg['buffers'], { type: data['blob'] }),\n",
       "            };\n",
       "        }\n",
       "        // Pass the mpl event to the overridden (by mpl) onmessage function.\n",
       "        ws.onmessage(data);\n",
       "    });\n",
       "    return ws;\n",
       "};\n",
       "\n",
       "mpl.mpl_figure_comm = function (comm, msg) {\n",
       "    // This is the function which gets called when the mpl process\n",
       "    // starts-up an IPython Comm through the \"matplotlib\" channel.\n",
       "\n",
       "    var id = msg.content.data.id;\n",
       "    // Get hold of the div created by the display call when the Comm\n",
       "    // socket was opened in Python.\n",
       "    var element = document.getElementById(id);\n",
       "    var ws_proxy = comm_websocket_adapter(comm);\n",
       "\n",
       "    function ondownload(figure, _format) {\n",
       "        window.open(figure.canvas.toDataURL());\n",
       "    }\n",
       "\n",
       "    var fig = new mpl.figure(id, ws_proxy, ondownload, element);\n",
       "\n",
       "    // Call onopen now - mpl needs it, as it is assuming we've passed it a real\n",
       "    // web socket which is closed, not our websocket->open comm proxy.\n",
       "    ws_proxy.onopen();\n",
       "\n",
       "    fig.parent_element = element;\n",
       "    fig.cell_info = mpl.find_output_cell(\"<div id='\" + id + \"'></div>\");\n",
       "    if (!fig.cell_info) {\n",
       "        console.error('Failed to find cell for figure', id, fig);\n",
       "        return;\n",
       "    }\n",
       "    fig.cell_info[0].output_area.element.on(\n",
       "        'cleared',\n",
       "        { fig: fig },\n",
       "        fig._remove_fig_handler\n",
       "    );\n",
       "};\n",
       "\n",
       "mpl.figure.prototype.handle_close = function (fig, msg) {\n",
       "    var width = fig.canvas.width / fig.ratio;\n",
       "    fig.cell_info[0].output_area.element.off(\n",
       "        'cleared',\n",
       "        fig._remove_fig_handler\n",
       "    );\n",
       "    fig.resizeObserverInstance.unobserve(fig.canvas_div);\n",
       "\n",
       "    // Update the output cell to use the data from the current canvas.\n",
       "    fig.push_to_output();\n",
       "    var dataURL = fig.canvas.toDataURL();\n",
       "    // Re-enable the keyboard manager in IPython - without this line, in FF,\n",
       "    // the notebook keyboard shortcuts fail.\n",
       "    IPython.keyboard_manager.enable();\n",
       "    fig.parent_element.innerHTML =\n",
       "        '<img src=\"' + dataURL + '\" width=\"' + width + '\">';\n",
       "    fig.close_ws(fig, msg);\n",
       "};\n",
       "\n",
       "mpl.figure.prototype.close_ws = function (fig, msg) {\n",
       "    fig.send_message('closing', msg);\n",
       "    // fig.ws.close()\n",
       "};\n",
       "\n",
       "mpl.figure.prototype.push_to_output = function (_remove_interactive) {\n",
       "    // Turn the data on the canvas into data in the output cell.\n",
       "    var width = this.canvas.width / this.ratio;\n",
       "    var dataURL = this.canvas.toDataURL();\n",
       "    this.cell_info[1]['text/html'] =\n",
       "        '<img src=\"' + dataURL + '\" width=\"' + width + '\">';\n",
       "};\n",
       "\n",
       "mpl.figure.prototype.updated_canvas_event = function () {\n",
       "    // Tell IPython that the notebook contents must change.\n",
       "    IPython.notebook.set_dirty(true);\n",
       "    this.send_message('ack', {});\n",
       "    var fig = this;\n",
       "    // Wait a second, then push the new image to the DOM so\n",
       "    // that it is saved nicely (might be nice to debounce this).\n",
       "    setTimeout(function () {\n",
       "        fig.push_to_output();\n",
       "    }, 1000);\n",
       "};\n",
       "\n",
       "mpl.figure.prototype._init_toolbar = function () {\n",
       "    var fig = this;\n",
       "\n",
       "    var toolbar = document.createElement('div');\n",
       "    toolbar.classList = 'btn-toolbar';\n",
       "    this.root.appendChild(toolbar);\n",
       "\n",
       "    function on_click_closure(name) {\n",
       "        return function (_event) {\n",
       "            return fig.toolbar_button_onclick(name);\n",
       "        };\n",
       "    }\n",
       "\n",
       "    function on_mouseover_closure(tooltip) {\n",
       "        return function (event) {\n",
       "            if (!event.currentTarget.disabled) {\n",
       "                return fig.toolbar_button_onmouseover(tooltip);\n",
       "            }\n",
       "        };\n",
       "    }\n",
       "\n",
       "    fig.buttons = {};\n",
       "    var buttonGroup = document.createElement('div');\n",
       "    buttonGroup.classList = 'btn-group';\n",
       "    var button;\n",
       "    for (var toolbar_ind in mpl.toolbar_items) {\n",
       "        var name = mpl.toolbar_items[toolbar_ind][0];\n",
       "        var tooltip = mpl.toolbar_items[toolbar_ind][1];\n",
       "        var image = mpl.toolbar_items[toolbar_ind][2];\n",
       "        var method_name = mpl.toolbar_items[toolbar_ind][3];\n",
       "\n",
       "        if (!name) {\n",
       "            /* Instead of a spacer, we start a new button group. */\n",
       "            if (buttonGroup.hasChildNodes()) {\n",
       "                toolbar.appendChild(buttonGroup);\n",
       "            }\n",
       "            buttonGroup = document.createElement('div');\n",
       "            buttonGroup.classList = 'btn-group';\n",
       "            continue;\n",
       "        }\n",
       "\n",
       "        button = fig.buttons[name] = document.createElement('button');\n",
       "        button.classList = 'btn btn-default';\n",
       "        button.href = '#';\n",
       "        button.title = name;\n",
       "        button.innerHTML = '<i class=\"fa ' + image + ' fa-lg\"></i>';\n",
       "        button.addEventListener('click', on_click_closure(method_name));\n",
       "        button.addEventListener('mouseover', on_mouseover_closure(tooltip));\n",
       "        buttonGroup.appendChild(button);\n",
       "    }\n",
       "\n",
       "    if (buttonGroup.hasChildNodes()) {\n",
       "        toolbar.appendChild(buttonGroup);\n",
       "    }\n",
       "\n",
       "    // Add the status bar.\n",
       "    var status_bar = document.createElement('span');\n",
       "    status_bar.classList = 'mpl-message pull-right';\n",
       "    toolbar.appendChild(status_bar);\n",
       "    this.message = status_bar;\n",
       "\n",
       "    // Add the close button to the window.\n",
       "    var buttongrp = document.createElement('div');\n",
       "    buttongrp.classList = 'btn-group inline pull-right';\n",
       "    button = document.createElement('button');\n",
       "    button.classList = 'btn btn-mini btn-primary';\n",
       "    button.href = '#';\n",
       "    button.title = 'Stop Interaction';\n",
       "    button.innerHTML = '<i class=\"fa fa-power-off icon-remove icon-large\"></i>';\n",
       "    button.addEventListener('click', function (_evt) {\n",
       "        fig.handle_close(fig, {});\n",
       "    });\n",
       "    button.addEventListener(\n",
       "        'mouseover',\n",
       "        on_mouseover_closure('Stop Interaction')\n",
       "    );\n",
       "    buttongrp.appendChild(button);\n",
       "    var titlebar = this.root.querySelector('.ui-dialog-titlebar');\n",
       "    titlebar.insertBefore(buttongrp, titlebar.firstChild);\n",
       "};\n",
       "\n",
       "mpl.figure.prototype._remove_fig_handler = function (event) {\n",
       "    var fig = event.data.fig;\n",
       "    if (event.target !== this) {\n",
       "        // Ignore bubbled events from children.\n",
       "        return;\n",
       "    }\n",
       "    fig.close_ws(fig, {});\n",
       "};\n",
       "\n",
       "mpl.figure.prototype._root_extra_style = function (el) {\n",
       "    el.style.boxSizing = 'content-box'; // override notebook setting of border-box.\n",
       "};\n",
       "\n",
       "mpl.figure.prototype._canvas_extra_style = function (el) {\n",
       "    // this is important to make the div 'focusable\n",
       "    el.setAttribute('tabindex', 0);\n",
       "    // reach out to IPython and tell the keyboard manager to turn it's self\n",
       "    // off when our div gets focus\n",
       "\n",
       "    // location in version 3\n",
       "    if (IPython.notebook.keyboard_manager) {\n",
       "        IPython.notebook.keyboard_manager.register_events(el);\n",
       "    } else {\n",
       "        // location in version 2\n",
       "        IPython.keyboard_manager.register_events(el);\n",
       "    }\n",
       "};\n",
       "\n",
       "mpl.figure.prototype._key_event_extra = function (event, _name) {\n",
       "    var manager = IPython.notebook.keyboard_manager;\n",
       "    if (!manager) {\n",
       "        manager = IPython.keyboard_manager;\n",
       "    }\n",
       "\n",
       "    // Check for shift+enter\n",
       "    if (event.shiftKey && event.which === 13) {\n",
       "        this.canvas_div.blur();\n",
       "        // select the cell after this one\n",
       "        var index = IPython.notebook.find_cell_index(this.cell_info[0]);\n",
       "        IPython.notebook.select(index + 1);\n",
       "    }\n",
       "};\n",
       "\n",
       "mpl.figure.prototype.handle_save = function (fig, _msg) {\n",
       "    fig.ondownload(fig, null);\n",
       "};\n",
       "\n",
       "mpl.find_output_cell = function (html_output) {\n",
       "    // Return the cell and output element which can be found *uniquely* in the notebook.\n",
       "    // Note - this is a bit hacky, but it is done because the \"notebook_saving.Notebook\"\n",
       "    // IPython event is triggered only after the cells have been serialised, which for\n",
       "    // our purposes (turning an active figure into a static one), is too late.\n",
       "    var cells = IPython.notebook.get_cells();\n",
       "    var ncells = cells.length;\n",
       "    for (var i = 0; i < ncells; i++) {\n",
       "        var cell = cells[i];\n",
       "        if (cell.cell_type === 'code') {\n",
       "            for (var j = 0; j < cell.output_area.outputs.length; j++) {\n",
       "                var data = cell.output_area.outputs[j];\n",
       "                if (data.data) {\n",
       "                    // IPython >= 3 moved mimebundle to data attribute of output\n",
       "                    data = data.data;\n",
       "                }\n",
       "                if (data['text/html'] === html_output) {\n",
       "                    return [cell, data, j];\n",
       "                }\n",
       "            }\n",
       "        }\n",
       "    }\n",
       "};\n",
       "\n",
       "// Register the function which deals with the matplotlib target/channel.\n",
       "// The kernel may be null if the page has been refreshed.\n",
       "if (IPython.notebook.kernel !== null) {\n",
       "    IPython.notebook.kernel.comm_manager.register_target(\n",
       "        'matplotlib',\n",
       "        mpl.mpl_figure_comm\n",
       "    );\n",
       "}\n"
      ],
      "text/plain": [
       "<IPython.core.display.Javascript object>"
      ]
     },
     "metadata": {},
     "output_type": "display_data"
    },
    {
     "data": {
      "text/html": [
       "<img src=\"data:image/png;base64,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\" width=\"852.75\">"
      ],
      "text/plain": [
       "<IPython.core.display.HTML object>"
      ]
     },
     "metadata": {},
     "output_type": "display_data"
    }
   ],
   "source": [
    "import numpy as np\n",
    "\n",
    "def f(x):\n",
    "    return np.sin(2 * x) * np.cos(x) * np.exp(-x / 3) * 100\n",
    "\n",
    "x = mg.linspace(0, 10, 10000)\n",
    "fig, ax = plot_func_and_deriv(x, f)"
   ]
  },
  {
   "cell_type": "code",
   "execution_count": null,
   "id": "a4af7913",
   "metadata": {},
   "outputs": [],
   "source": []
  }
 ],
 "metadata": {
  "kernelspec": {
   "display_name": "Python 3 (ipykernel)",
   "language": "python",
   "name": "python3"
  },
  "language_info": {
   "codemirror_mode": {
    "name": "ipython",
    "version": 3
   },
   "file_extension": ".py",
   "mimetype": "text/x-python",
   "name": "python",
   "nbconvert_exporter": "python",
   "pygments_lexer": "ipython3",
   "version": "3.8.12"
  }
 },
 "nbformat": 4,
 "nbformat_minor": 5
}
