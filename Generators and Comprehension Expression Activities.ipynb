{
 "cells": [
  {
   "cell_type": "markdown",
   "id": "da5b5ff1",
   "metadata": {},
   "source": [
    "## Generators & Comprehension Expressions\n",
    "\n",
    "You may reference the following documentation if you need to look up something: \n",
    " * [Generator definition](https://docs.python.org/3/glossary.html#term-generator) \n",
    " * [range](https://docs.python.org/3/library/stdtypes.html#typesseq-range)\n",
    " * [Generator comprehension expressions](https://docs.python.org/3/tutorial/classes.html#generator-expressions)\n",
    " * [Iterator definition](https://docs.python.org/3/glossary.html#term-iterator)\n",
    " * [next](https://docs.python.org/3/library/functions.html#next)\n",
    " * [iter](https://docs.python.org/3/library/functions.html#iter)\n",
    " * [List comprehensions](https://docs.python.org/3/tutorial/datastructures.html#list-comprehensions)\n",
    " * [Nested list comprehensions](https://docs.python.org/3/tutorial/datastructures.html#nested-list-comprehensions) \n"
   ]
  },
  {
   "cell_type": "markdown",
   "id": "f300e074",
   "metadata": {},
   "source": [
    "__1.__ Using `range` in a for-loop, print the numbers 10-1, in sequence.\n",
    "\n"
   ]
  },
  {
   "cell_type": "code",
   "execution_count": null,
   "id": "1212cf0e",
   "metadata": {},
   "outputs": [],
   "source": []
  },
  {
   "cell_type": "markdown",
   "id": "7b5b44d1",
   "metadata": {},
   "source": [
    "__2.__ Using a generator comprehension, define a generator for the series:\n",
    "\n",
    "`(0, 2).. (1, 3).. (2, 4).. (4, 6).. (5, 7)`\n",
    "\n",
    "Note that (3, 5) is _not_ in the series.\n",
    "\n",
    "Iterate over the generator and print its contents to verify your solution."
   ]
  },
  {
   "cell_type": "code",
   "execution_count": null,
   "id": "e721c44f",
   "metadata": {},
   "outputs": [],
   "source": []
  },
  {
   "cell_type": "markdown",
   "id": "111a0716",
   "metadata": {},
   "source": [
    "__3.__ In a single line, compute the sum of all of the odd-numbers in 0-100.\n",
    "\n"
   ]
  },
  {
   "cell_type": "code",
   "execution_count": null,
   "id": "d7d09d92",
   "metadata": {},
   "outputs": [],
   "source": []
  },
  {
   "cell_type": "markdown",
   "id": "7c86488a",
   "metadata": {},
   "source": [
    "__4.__ Use a list comprehension to create a list that contains the string “hello” 100 times.\n",
    "\n"
   ]
  },
  {
   "cell_type": "code",
   "execution_count": null,
   "id": "34fe20f4",
   "metadata": {},
   "outputs": [],
   "source": []
  },
  {
   "cell_type": "markdown",
   "id": "a6e9567d",
   "metadata": {},
   "source": [
    "__5.__ Use the inline `if-else` statement (discussed earlier in this module), along with a list comprehension, to create the list: \n",
    "\n",
    "`['hello',\n",
    " 'goodbye',\n",
    " 'hello',\n",
    " 'goodbye',\n",
    " 'hello',\n",
    " 'goodbye',\n",
    " 'hello',\n",
    " 'goodbye',\n",
    " 'hello',\n",
    " 'goodbye']`"
   ]
  },
  {
   "cell_type": "code",
   "execution_count": null,
   "id": "b2f917e2",
   "metadata": {},
   "outputs": [],
   "source": []
  },
  {
   "cell_type": "markdown",
   "id": "91c599da",
   "metadata": {},
   "source": [
    "__6.__ Use a tuple-comprehension to extract comma-separated numbers from a string, converting them into a tuple of floats. I.e. `\"3.2,2.4,99.8\"` should become `(3.2, 2.4, 99.8)`. You will want to use the built-in string function [str.split](https://docs.python.org/3/library/stdtypes.html#str.split).\n",
    "\n"
   ]
  },
  {
   "cell_type": "code",
   "execution_count": null,
   "id": "ba5e309c",
   "metadata": {},
   "outputs": [],
   "source": []
  },
  {
   "cell_type": "markdown",
   "id": "d8e01940",
   "metadata": {},
   "source": [
    "__7.__ Replicate the functionality of the the following code by writing a list comprehension."
   ]
  },
  {
   "cell_type": "code",
   "execution_count": 1,
   "id": "ab960ad9",
   "metadata": {},
   "outputs": [],
   "source": [
    "# skip all non-lowercased letters (including punctuation)\n",
    "# append 1 if lowercase letter is equal to \"o\"\n",
    "# append 0 if lowercase letter is not \"o\"\n",
    "out = []\n",
    "for i in \"Hello. How Are You?\":\n",
    "    if i.islower():\n",
    "        out.append(1 if i == \"o\" else 0)\n",
    "        "
   ]
  },
  {
   "cell_type": "code",
   "execution_count": null,
   "id": "8505c25d",
   "metadata": {},
   "outputs": [],
   "source": []
  },
  {
   "cell_type": "markdown",
   "id": "03e95719",
   "metadata": {},
   "source": [
    "__8.__ Is there any difference in performance between the following expressions?\n",
    "\n",
    "`# feeding 'sum' a generator comprehension\n",
    "sum(1/n for n in range(1, 101))`\n",
    "\n",
    "`# feeding 'sum' a list comprehension\n",
    "sum([1/n for n in range(1, 101)])`\n",
    "\n",
    "Is one expression preferable over the other? Why?"
   ]
  },
  {
   "cell_type": "code",
   "execution_count": null,
   "id": "9448155a",
   "metadata": {},
   "outputs": [],
   "source": []
  }
 ],
 "metadata": {
  "kernelspec": {
   "display_name": "Python 3 (ipykernel)",
   "language": "python",
   "name": "python3"
  },
  "language_info": {
   "codemirror_mode": {
    "name": "ipython",
    "version": 3
   },
   "file_extension": ".py",
   "mimetype": "text/x-python",
   "name": "python",
   "nbconvert_exporter": "python",
   "pygments_lexer": "ipython3",
   "version": "3.8.10"
  }
 },
 "nbformat": 4,
 "nbformat_minor": 5
}
